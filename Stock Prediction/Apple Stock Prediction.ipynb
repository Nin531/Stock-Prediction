{
 "cells": [
  {
   "cell_type": "code",
   "execution_count": 26,
   "metadata": {},
   "outputs": [
    {
     "name": "stdout",
     "output_type": "stream",
     "text": [
      "Collecting tensorflow\n",
      "  Downloading tensorflow-2.10.0-cp310-cp310-win_amd64.whl (455.9 MB)\n",
      "     -------------------------------------- 455.9/455.9 MB 1.6 MB/s eta 0:00:00\n",
      "Requirement already satisfied: packaging in c:\\users\\dell\\appdata\\roaming\\python\\python310\\site-packages (from tensorflow) (21.3)\n",
      "Collecting h5py>=2.9.0\n",
      "  Downloading h5py-3.7.0-cp310-cp310-win_amd64.whl (2.6 MB)\n",
      "     ---------------------------------------- 2.6/2.6 MB 8.0 MB/s eta 0:00:00\n",
      "Collecting typing-extensions>=3.6.6\n",
      "  Downloading typing_extensions-4.4.0-py3-none-any.whl (26 kB)\n",
      "Collecting wrapt>=1.11.0\n",
      "  Downloading wrapt-1.14.1-cp310-cp310-win_amd64.whl (35 kB)\n",
      "Collecting grpcio<2.0,>=1.24.3\n",
      "  Downloading grpcio-1.50.0-cp310-cp310-win_amd64.whl (3.6 MB)\n",
      "     ---------------------------------------- 3.6/3.6 MB 10.1 MB/s eta 0:00:00\n",
      "Collecting protobuf<3.20,>=3.9.2\n",
      "  Downloading protobuf-3.19.6-cp310-cp310-win_amd64.whl (895 kB)\n",
      "     -------------------------------------- 895.7/895.7 kB 9.4 MB/s eta 0:00:00\n",
      "Requirement already satisfied: setuptools in c:\\users\\dell\\appdata\\local\\programs\\python\\python310\\lib\\site-packages (from tensorflow) (63.2.0)\n",
      "Collecting termcolor>=1.1.0\n",
      "  Downloading termcolor-2.1.0-py3-none-any.whl (5.8 kB)\n",
      "Collecting tensorflow-io-gcs-filesystem>=0.23.1\n",
      "  Downloading tensorflow_io_gcs_filesystem-0.27.0-cp310-cp310-win_amd64.whl (1.5 MB)\n",
      "     ---------------------------------------- 1.5/1.5 MB 8.6 MB/s eta 0:00:00\n",
      "Collecting opt-einsum>=2.3.2\n",
      "  Downloading opt_einsum-3.3.0-py3-none-any.whl (65 kB)\n",
      "     ---------------------------------------- 65.5/65.5 kB 3.5 MB/s eta 0:00:00\n",
      "Collecting absl-py>=1.0.0\n",
      "  Downloading absl_py-1.3.0-py3-none-any.whl (124 kB)\n",
      "     -------------------------------------- 124.6/124.6 kB 7.1 MB/s eta 0:00:00\n",
      "Requirement already satisfied: numpy>=1.20 in c:\\users\\dell\\appdata\\local\\programs\\python\\python310\\lib\\site-packages (from tensorflow) (1.23.4)\n",
      "Collecting libclang>=13.0.0\n",
      "  Downloading libclang-14.0.6-py2.py3-none-win_amd64.whl (14.2 MB)\n",
      "     ---------------------------------------- 14.2/14.2 MB 8.6 MB/s eta 0:00:00\n",
      "Collecting keras<2.11,>=2.10.0\n",
      "  Downloading keras-2.10.0-py2.py3-none-any.whl (1.7 MB)\n",
      "     ---------------------------------------- 1.7/1.7 MB 9.7 MB/s eta 0:00:00\n",
      "Collecting flatbuffers>=2.0\n",
      "  Downloading flatbuffers-22.10.26-py2.py3-none-any.whl (26 kB)\n",
      "Collecting astunparse>=1.6.0\n",
      "  Downloading astunparse-1.6.3-py2.py3-none-any.whl (12 kB)\n",
      "Collecting gast<=0.4.0,>=0.2.1\n",
      "  Downloading gast-0.4.0-py3-none-any.whl (9.8 kB)\n",
      "Collecting google-pasta>=0.1.1\n",
      "  Downloading google_pasta-0.2.0-py3-none-any.whl (57 kB)\n",
      "     ---------------------------------------- 57.5/57.5 kB ? eta 0:00:00\n",
      "Collecting keras-preprocessing>=1.1.1\n",
      "  Downloading Keras_Preprocessing-1.1.2-py2.py3-none-any.whl (42 kB)\n",
      "     ---------------------------------------- 42.6/42.6 kB ? eta 0:00:00\n",
      "Collecting tensorflow-estimator<2.11,>=2.10.0\n",
      "  Downloading tensorflow_estimator-2.10.0-py2.py3-none-any.whl (438 kB)\n",
      "     -------------------------------------- 438.7/438.7 kB 6.8 MB/s eta 0:00:00\n",
      "Requirement already satisfied: six>=1.12.0 in c:\\users\\dell\\appdata\\roaming\\python\\python310\\site-packages (from tensorflow) (1.16.0)\n",
      "Collecting tensorboard<2.11,>=2.10\n",
      "  Downloading tensorboard-2.10.1-py3-none-any.whl (5.9 MB)\n",
      "     ---------------------------------------- 5.9/5.9 MB 9.4 MB/s eta 0:00:00\n",
      "Collecting wheel<1.0,>=0.23.0\n",
      "  Downloading wheel-0.37.1-py2.py3-none-any.whl (35 kB)\n",
      "Collecting markdown>=2.6.8\n",
      "  Downloading Markdown-3.4.1-py3-none-any.whl (93 kB)\n",
      "     ---------------------------------------- 93.3/93.3 kB 5.2 MB/s eta 0:00:00\n",
      "Collecting google-auth-oauthlib<0.5,>=0.4.1\n",
      "  Downloading google_auth_oauthlib-0.4.6-py2.py3-none-any.whl (18 kB)\n",
      "Collecting google-auth<3,>=1.6.3\n",
      "  Downloading google_auth-2.14.0-py2.py3-none-any.whl (175 kB)\n",
      "     ------------------------------------- 175.0/175.0 kB 11.0 MB/s eta 0:00:00\n",
      "Requirement already satisfied: requests<3,>=2.21.0 in c:\\users\\dell\\appdata\\local\\programs\\python\\python310\\lib\\site-packages (from tensorboard<2.11,>=2.10->tensorflow) (2.28.1)\n",
      "Collecting tensorboard-data-server<0.7.0,>=0.6.0\n",
      "  Downloading tensorboard_data_server-0.6.1-py3-none-any.whl (2.4 kB)\n",
      "Collecting werkzeug>=1.0.1\n",
      "  Downloading Werkzeug-2.2.2-py3-none-any.whl (232 kB)\n",
      "     -------------------------------------- 232.7/232.7 kB 7.2 MB/s eta 0:00:00\n",
      "Collecting tensorboard-plugin-wit>=1.6.0\n",
      "  Downloading tensorboard_plugin_wit-1.8.1-py3-none-any.whl (781 kB)\n",
      "     ------------------------------------- 781.3/781.3 kB 24.9 MB/s eta 0:00:00\n",
      "Requirement already satisfied: pyparsing!=3.0.5,>=2.0.2 in c:\\users\\dell\\appdata\\roaming\\python\\python310\\site-packages (from packaging->tensorflow) (3.0.9)\n",
      "Collecting pyasn1-modules>=0.2.1\n",
      "  Downloading pyasn1_modules-0.2.8-py2.py3-none-any.whl (155 kB)\n",
      "     -------------------------------------- 155.3/155.3 kB 9.7 MB/s eta 0:00:00\n",
      "Collecting rsa<5,>=3.1.4\n",
      "  Downloading rsa-4.9-py3-none-any.whl (34 kB)\n",
      "Collecting cachetools<6.0,>=2.0.0\n",
      "  Downloading cachetools-5.2.0-py3-none-any.whl (9.3 kB)\n",
      "Collecting requests-oauthlib>=0.7.0\n",
      "  Downloading requests_oauthlib-1.3.1-py2.py3-none-any.whl (23 kB)\n",
      "Requirement already satisfied: idna<4,>=2.5 in c:\\users\\dell\\appdata\\local\\programs\\python\\python310\\lib\\site-packages (from requests<3,>=2.21.0->tensorboard<2.11,>=2.10->tensorflow) (3.4)\n",
      "Requirement already satisfied: urllib3<1.27,>=1.21.1 in c:\\users\\dell\\appdata\\local\\programs\\python\\python310\\lib\\site-packages (from requests<3,>=2.21.0->tensorboard<2.11,>=2.10->tensorflow) (1.26.12)\n",
      "Requirement already satisfied: certifi>=2017.4.17 in c:\\users\\dell\\appdata\\local\\programs\\python\\python310\\lib\\site-packages (from requests<3,>=2.21.0->tensorboard<2.11,>=2.10->tensorflow) (2022.9.24)\n",
      "Requirement already satisfied: charset-normalizer<3,>=2 in c:\\users\\dell\\appdata\\local\\programs\\python\\python310\\lib\\site-packages (from requests<3,>=2.21.0->tensorboard<2.11,>=2.10->tensorflow) (2.1.1)\n",
      "Collecting MarkupSafe>=2.1.1\n",
      "  Downloading MarkupSafe-2.1.1-cp310-cp310-win_amd64.whl (17 kB)\n",
      "Collecting pyasn1<0.5.0,>=0.4.6\n",
      "  Downloading pyasn1-0.4.8-py2.py3-none-any.whl (77 kB)\n",
      "     ---------------------------------------- 77.1/77.1 kB 4.2 MB/s eta 0:00:00\n",
      "Collecting oauthlib>=3.0.0\n",
      "  Downloading oauthlib-3.2.2-py3-none-any.whl (151 kB)\n",
      "     -------------------------------------- 151.7/151.7 kB 4.6 MB/s eta 0:00:00\n",
      "Installing collected packages: tensorboard-plugin-wit, pyasn1, libclang, keras, flatbuffers, wrapt, wheel, typing-extensions, termcolor, tensorflow-io-gcs-filesystem, tensorflow-estimator, tensorboard-data-server, rsa, pyasn1-modules, protobuf, opt-einsum, oauthlib, MarkupSafe, markdown, keras-preprocessing, h5py, grpcio, google-pasta, gast, cachetools, absl-py, werkzeug, requests-oauthlib, google-auth, astunparse, google-auth-oauthlib, tensorboard, tensorflow\n",
      "Successfully installed MarkupSafe-2.1.1 absl-py-1.3.0 astunparse-1.6.3 cachetools-5.2.0 flatbuffers-22.10.26 gast-0.4.0 google-auth-2.14.0 google-auth-oauthlib-0.4.6 google-pasta-0.2.0 grpcio-1.50.0 h5py-3.7.0 keras-2.10.0 keras-preprocessing-1.1.2 libclang-14.0.6 markdown-3.4.1 oauthlib-3.2.2 opt-einsum-3.3.0 protobuf-3.19.6 pyasn1-0.4.8 pyasn1-modules-0.2.8 requests-oauthlib-1.3.1 rsa-4.9 tensorboard-2.10.1 tensorboard-data-server-0.6.1 tensorboard-plugin-wit-1.8.1 tensorflow-2.10.0 tensorflow-estimator-2.10.0 tensorflow-io-gcs-filesystem-0.27.0 termcolor-2.1.0 typing-extensions-4.4.0 werkzeug-2.2.2 wheel-0.37.1 wrapt-1.14.1\n",
      "Note: you may need to restart the kernel to use updated packages.\n"
     ]
    },
    {
     "name": "stderr",
     "output_type": "stream",
     "text": [
      "\n",
      "[notice] A new release of pip available: 22.2.2 -> 22.3\n",
      "[notice] To update, run: python.exe -m pip install --upgrade pip\n"
     ]
    }
   ],
   "source": [
    "pip install tensorflow\n"
   ]
  },
  {
   "cell_type": "code",
   "execution_count": 4,
   "metadata": {},
   "outputs": [],
   "source": [
    "#data collection\n",
    "import pandas_datareader as pdr\n",
    "key=\"013ec1061a19d8f3a96370680762f683d071362c\""
   ]
  },
  {
   "cell_type": "code",
   "execution_count": 5,
   "metadata": {},
   "outputs": [
    {
     "name": "stderr",
     "output_type": "stream",
     "text": [
      "C:\\Users\\Dell\\AppData\\Local\\Temp\\ipykernel_12376\\1593133401.py:1: FutureWarning: In a future version of pandas all arguments of concat except for the argument 'objs' will be keyword-only.\n",
      "  df = pdr.get_data_tiingo('AAPL', api_key=key)\n"
     ]
    }
   ],
   "source": [
    "df = pdr.get_data_tiingo('AAPL', api_key=key)"
   ]
  },
  {
   "cell_type": "code",
   "execution_count": 6,
   "metadata": {},
   "outputs": [],
   "source": [
    "df.to_csv('AAPL.csv')"
   ]
  },
  {
   "cell_type": "code",
   "execution_count": 7,
   "metadata": {},
   "outputs": [],
   "source": [
    "import pandas as pd"
   ]
  },
  {
   "cell_type": "code",
   "execution_count": 8,
   "metadata": {},
   "outputs": [],
   "source": [
    "df=pd.read_csv('AAPL.csv')"
   ]
  },
  {
   "cell_type": "code",
   "execution_count": 9,
   "metadata": {},
   "outputs": [
    {
     "data": {
      "text/html": [
       "<div>\n",
       "<style scoped>\n",
       "    .dataframe tbody tr th:only-of-type {\n",
       "        vertical-align: middle;\n",
       "    }\n",
       "\n",
       "    .dataframe tbody tr th {\n",
       "        vertical-align: top;\n",
       "    }\n",
       "\n",
       "    .dataframe thead th {\n",
       "        text-align: right;\n",
       "    }\n",
       "</style>\n",
       "<table border=\"1\" class=\"dataframe\">\n",
       "  <thead>\n",
       "    <tr style=\"text-align: right;\">\n",
       "      <th></th>\n",
       "      <th>symbol</th>\n",
       "      <th>date</th>\n",
       "      <th>close</th>\n",
       "      <th>high</th>\n",
       "      <th>low</th>\n",
       "      <th>open</th>\n",
       "      <th>volume</th>\n",
       "      <th>adjClose</th>\n",
       "      <th>adjHigh</th>\n",
       "      <th>adjLow</th>\n",
       "      <th>adjOpen</th>\n",
       "      <th>adjVolume</th>\n",
       "      <th>divCash</th>\n",
       "      <th>splitFactor</th>\n",
       "    </tr>\n",
       "  </thead>\n",
       "  <tbody>\n",
       "    <tr>\n",
       "      <th>0</th>\n",
       "      <td>AAPL</td>\n",
       "      <td>2017-11-06 00:00:00+00:00</td>\n",
       "      <td>174.25</td>\n",
       "      <td>174.990</td>\n",
       "      <td>171.72</td>\n",
       "      <td>172.365</td>\n",
       "      <td>34242566</td>\n",
       "      <td>41.341395</td>\n",
       "      <td>41.516962</td>\n",
       "      <td>40.741144</td>\n",
       "      <td>40.894172</td>\n",
       "      <td>136970264</td>\n",
       "      <td>0.00</td>\n",
       "      <td>1.0</td>\n",
       "    </tr>\n",
       "    <tr>\n",
       "      <th>1</th>\n",
       "      <td>AAPL</td>\n",
       "      <td>2017-11-07 00:00:00+00:00</td>\n",
       "      <td>174.81</td>\n",
       "      <td>175.250</td>\n",
       "      <td>173.60</td>\n",
       "      <td>173.910</td>\n",
       "      <td>23910914</td>\n",
       "      <td>41.474257</td>\n",
       "      <td>41.578648</td>\n",
       "      <td>41.187180</td>\n",
       "      <td>41.260729</td>\n",
       "      <td>95643656</td>\n",
       "      <td>0.00</td>\n",
       "      <td>1.0</td>\n",
       "    </tr>\n",
       "    <tr>\n",
       "      <th>2</th>\n",
       "      <td>AAPL</td>\n",
       "      <td>2017-11-08 00:00:00+00:00</td>\n",
       "      <td>176.24</td>\n",
       "      <td>176.240</td>\n",
       "      <td>174.33</td>\n",
       "      <td>174.660</td>\n",
       "      <td>23907639</td>\n",
       "      <td>41.813529</td>\n",
       "      <td>41.813529</td>\n",
       "      <td>41.360375</td>\n",
       "      <td>41.438669</td>\n",
       "      <td>95630556</td>\n",
       "      <td>0.00</td>\n",
       "      <td>1.0</td>\n",
       "    </tr>\n",
       "    <tr>\n",
       "      <th>3</th>\n",
       "      <td>AAPL</td>\n",
       "      <td>2017-11-09 00:00:00+00:00</td>\n",
       "      <td>175.88</td>\n",
       "      <td>176.095</td>\n",
       "      <td>173.14</td>\n",
       "      <td>175.110</td>\n",
       "      <td>28636531</td>\n",
       "      <td>41.728118</td>\n",
       "      <td>41.779127</td>\n",
       "      <td>41.078044</td>\n",
       "      <td>41.545433</td>\n",
       "      <td>114546124</td>\n",
       "      <td>0.00</td>\n",
       "      <td>1.0</td>\n",
       "    </tr>\n",
       "    <tr>\n",
       "      <th>4</th>\n",
       "      <td>AAPL</td>\n",
       "      <td>2017-11-10 00:00:00+00:00</td>\n",
       "      <td>174.67</td>\n",
       "      <td>175.380</td>\n",
       "      <td>174.27</td>\n",
       "      <td>175.110</td>\n",
       "      <td>25061183</td>\n",
       "      <td>41.590511</td>\n",
       "      <td>41.759568</td>\n",
       "      <td>41.495267</td>\n",
       "      <td>41.695279</td>\n",
       "      <td>100244732</td>\n",
       "      <td>0.63</td>\n",
       "      <td>1.0</td>\n",
       "    </tr>\n",
       "  </tbody>\n",
       "</table>\n",
       "</div>"
      ],
      "text/plain": [
       "  symbol                       date   close     high     low     open  \\\n",
       "0   AAPL  2017-11-06 00:00:00+00:00  174.25  174.990  171.72  172.365   \n",
       "1   AAPL  2017-11-07 00:00:00+00:00  174.81  175.250  173.60  173.910   \n",
       "2   AAPL  2017-11-08 00:00:00+00:00  176.24  176.240  174.33  174.660   \n",
       "3   AAPL  2017-11-09 00:00:00+00:00  175.88  176.095  173.14  175.110   \n",
       "4   AAPL  2017-11-10 00:00:00+00:00  174.67  175.380  174.27  175.110   \n",
       "\n",
       "     volume   adjClose    adjHigh     adjLow    adjOpen  adjVolume  divCash  \\\n",
       "0  34242566  41.341395  41.516962  40.741144  40.894172  136970264     0.00   \n",
       "1  23910914  41.474257  41.578648  41.187180  41.260729   95643656     0.00   \n",
       "2  23907639  41.813529  41.813529  41.360375  41.438669   95630556     0.00   \n",
       "3  28636531  41.728118  41.779127  41.078044  41.545433  114546124     0.00   \n",
       "4  25061183  41.590511  41.759568  41.495267  41.695279  100244732     0.63   \n",
       "\n",
       "   splitFactor  \n",
       "0          1.0  \n",
       "1          1.0  \n",
       "2          1.0  \n",
       "3          1.0  \n",
       "4          1.0  "
      ]
     },
     "execution_count": 9,
     "metadata": {},
     "output_type": "execute_result"
    }
   ],
   "source": [
    "df.head()"
   ]
  },
  {
   "cell_type": "code",
   "execution_count": 10,
   "metadata": {},
   "outputs": [],
   "source": [
    "df1=df.reset_index()['close']"
   ]
  },
  {
   "cell_type": "code",
   "execution_count": 11,
   "metadata": {},
   "outputs": [
    {
     "data": {
      "text/plain": [
       "0       174.25\n",
       "1       174.81\n",
       "2       176.24\n",
       "3       175.88\n",
       "4       174.67\n",
       "         ...  \n",
       "1252    144.80\n",
       "1253    155.74\n",
       "1254    153.34\n",
       "1255    150.65\n",
       "1256    145.03\n",
       "Name: close, Length: 1257, dtype: float64"
      ]
     },
     "execution_count": 11,
     "metadata": {},
     "output_type": "execute_result"
    }
   ],
   "source": [
    "df1\n"
   ]
  },
  {
   "cell_type": "code",
   "execution_count": 12,
   "metadata": {},
   "outputs": [
    {
     "data": {
      "text/plain": [
       "[<matplotlib.lines.Line2D at 0x2c750792980>]"
      ]
     },
     "execution_count": 12,
     "metadata": {},
     "output_type": "execute_result"
    },
    {
     "data": {
      "image/png": "[encoded data removed]",
      "text/plain": [
       "<Figure size 640x480 with 1 Axes>"
      ]
     },
     "metadata": {},
     "output_type": "display_data"
    }
   ],
   "source": [
    "import matplotlib.pyplot as plt\n",
    "plt.plot(df1)"
   ]
  },
  {
   "cell_type": "code",
   "execution_count": 13,
   "metadata": {},
   "outputs": [],
   "source": [
    "import numpy as np"
   ]
  },
  {
   "cell_type": "code",
   "execution_count": 14,
   "metadata": {},
   "outputs": [],
   "source": [
    "from sklearn.preprocessing import MinMaxScaler\n",
    "scaler=MinMaxScaler(feature_range=(0,1))\n",
    "df1=scaler.fit_transform(np.array(df1).reshape(-1,1))"
   ]
  },
  {
   "cell_type": "code",
   "execution_count": 15,
   "metadata": {},
   "outputs": [
    {
     "data": {
      "text/plain": [
       "array([[0.16884158],\n",
       "       [0.17024421],\n",
       "       [0.17382592],\n",
       "       ...,\n",
       "       [0.11646838],\n",
       "       [0.10973075],\n",
       "       [0.09565435]])"
      ]
     },
     "execution_count": 15,
     "metadata": {},
     "output_type": "execute_result"
    }
   ],
   "source": [
    "df1"
   ]
  },
  {
   "cell_type": "code",
   "execution_count": 16,
   "metadata": {},
   "outputs": [],
   "source": [
    "training_size=int(len(df1)*0.65)\n",
    "test_size=len(df1)-training_size\n",
    "train_data,test_data=df1[0:training_size,:],df1[training_size:len(df1),:1]"
   ]
  },
  {
   "cell_type": "code",
   "execution_count": 17,
   "metadata": {},
   "outputs": [
    {
     "data": {
      "text/plain": [
       "(817, 440)"
      ]
     },
     "execution_count": 17,
     "metadata": {},
     "output_type": "execute_result"
    }
   ],
   "source": [
    "training_size,test_size"
   ]
  },
  {
   "cell_type": "code",
   "execution_count": 18,
   "metadata": {},
   "outputs": [],
   "source": [
    "import numpy\n",
    "#array of values into a dataset matrix\n",
    "def create_dataset(dataset, time_step=1):\n",
    "\tdataX, dataY = [], []\n",
    "\tfor i in range(len(dataset)-time_step-1):\n",
    "\t\ta = dataset[i:(i+time_step), 0]   \n",
    "\t\tdataX.append(a)\n",
    "\t\tdataY.append(dataset[i + time_step, 0])\n",
    "\treturn numpy.array(dataX), numpy.array(dataY)"
   ]
  },
  {
   "cell_type": "code",
   "execution_count": 19,
   "metadata": {},
   "outputs": [],
   "source": [
    "time_step = 100\n",
    "X_train, y_train = create_dataset(train_data, time_step)\n",
    "X_test, ytest = create_dataset(test_data, time_step)"
   ]
  },
  {
   "cell_type": "code",
   "execution_count": 20,
   "metadata": {},
   "outputs": [
    {
     "name": "stdout",
     "output_type": "stream",
     "text": [
      "(716, 100)\n",
      "(716,)\n"
     ]
    },
    {
     "data": {
      "text/plain": [
       "(None, None)"
      ]
     },
     "execution_count": 20,
     "metadata": {},
     "output_type": "execute_result"
    }
   ],
   "source": [
    "print(X_train.shape), print(y_train.shape)"
   ]
  },
  {
   "cell_type": "code",
   "execution_count": 21,
   "metadata": {},
   "outputs": [],
   "source": [
    "#reshape into X=t,t+1,t+2,t+3 and Y=t+4\n",
    "time_step = 100\n",
    "X_train, y_train = create_dataset(train_data, time_step)\n",
    "X_test, ytest = create_dataset(test_data, time_step)"
   ]
  },
  {
   "cell_type": "code",
   "execution_count": 22,
   "metadata": {},
   "outputs": [
    {
     "name": "stdout",
     "output_type": "stream",
     "text": [
      "(716, 100)\n",
      "(716,)\n"
     ]
    },
    {
     "data": {
      "text/plain": [
       "(None, None)"
      ]
     },
     "execution_count": 22,
     "metadata": {},
     "output_type": "execute_result"
    }
   ],
   "source": [
    "print(X_train.shape), print(y_train.shape)"
   ]
  },
  {
   "cell_type": "code",
   "execution_count": 23,
   "metadata": {},
   "outputs": [
    {
     "name": "stdout",
     "output_type": "stream",
     "text": [
      "(339, 100)\n",
      "(339,)\n"
     ]
    },
    {
     "data": {
      "text/plain": [
       "(None, None)"
      ]
     },
     "execution_count": 23,
     "metadata": {},
     "output_type": "execute_result"
    }
   ],
   "source": [
    "print(X_test.shape), print(ytest.shape)"
   ]
  },
  {
   "cell_type": "code",
   "execution_count": 24,
   "metadata": {},
   "outputs": [],
   "source": [
    "#reshape input to be [samples, time steps, features] for LSTM\n",
    "X_train =X_train.reshape(X_train.shape[0],X_train.shape[1] , 1)\n",
    "X_test = X_test.reshape(X_test.shape[0],X_test.shape[1] , 1)"
   ]
  },
  {
   "cell_type": "code",
   "execution_count": 27,
   "metadata": {},
   "outputs": [],
   "source": [
    "#Stacked LSTM model\n",
    "from tensorflow.keras.models import Sequential\n",
    "from tensorflow.keras.layers import Dense\n",
    "from tensorflow.keras.layers import LSTM"
   ]
  },
  {
   "cell_type": "code",
   "execution_count": 28,
   "metadata": {},
   "outputs": [],
   "source": [
    "model=Sequential()\n",
    "model.add(LSTM(50,return_sequences=True,input_shape=(100,1)))\n",
    "model.add(LSTM(50,return_sequences=True))\n",
    "model.add(LSTM(50))\n",
    "model.add(Dense(1))\n",
    "model.compile(loss='mean_squared_error',optimizer='adam')"
   ]
  },
  {
   "cell_type": "code",
   "execution_count": 29,
   "metadata": {},
   "outputs": [
    {
     "name": "stdout",
     "output_type": "stream",
     "text": [
      "Model: \"sequential\"\n",
      "_________________________________________________________________\n",
      " Layer (type)                Output Shape              Param #   \n",
      "=================================================================\n",
      " lstm (LSTM)                 (None, 100, 50)           10400     \n",
      "                                                                 \n",
      " lstm_1 (LSTM)               (None, 100, 50)           20200     \n",
      "                                                                 \n",
      " lstm_2 (LSTM)               (None, 50)                20200     \n",
      "                                                                 \n",
      " dense (Dense)               (None, 1)                 51        \n",
      "                                                                 \n",
      "=================================================================\n",
      "Total params: 50,851\n",
      "Trainable params: 50,851\n",
      "Non-trainable params: 0\n",
      "_________________________________________________________________\n"
     ]
    }
   ],
   "source": [
    "model.summary()"
   ]
  },
  {
   "cell_type": "code",
   "execution_count": 30,
   "metadata": {},
   "outputs": [
    {
     "name": "stdout",
     "output_type": "stream",
     "text": [
      "Epoch 1/100\n",
      "12/12 [==============================] - 18s 643ms/step - loss: 0.0510 - val_loss: 0.0074\n",
      "Epoch 2/100\n",
      "12/12 [==============================] - 4s 322ms/step - loss: 0.0191 - val_loss: 0.0061\n",
      "Epoch 3/100\n",
      "12/12 [==============================] - 4s 354ms/step - loss: 0.0144 - val_loss: 6.2518e-04\n",
      "Epoch 4/100\n",
      "12/12 [==============================] - 4s 373ms/step - loss: 0.0111 - val_loss: 0.0019\n",
      "Epoch 5/100\n",
      "12/12 [==============================] - 5s 374ms/step - loss: 0.0096 - val_loss: 4.7052e-04\n",
      "Epoch 6/100\n",
      "12/12 [==============================] - 4s 363ms/step - loss: 0.0083 - val_loss: 2.9524e-04\n",
      "Epoch 7/100\n",
      "12/12 [==============================] - 7s 565ms/step - loss: 0.0078 - val_loss: 5.3104e-04\n",
      "Epoch 8/100\n",
      "12/12 [==============================] - 4s 341ms/step - loss: 0.0069 - val_loss: 3.5754e-04\n",
      "Epoch 9/100\n",
      "12/12 [==============================] - 5s 454ms/step - loss: 0.0064 - val_loss: 0.0012\n",
      "Epoch 10/100\n",
      "12/12 [==============================] - 5s 434ms/step - loss: 0.0061 - val_loss: 2.9972e-04\n",
      "Epoch 11/100\n",
      "12/12 [==============================] - 4s 357ms/step - loss: 0.0056 - val_loss: 2.6079e-04\n",
      "Epoch 12/100\n",
      "12/12 [==============================] - 5s 409ms/step - loss: 0.0048 - val_loss: 3.8729e-04\n",
      "Epoch 13/100\n",
      "12/12 [==============================] - 5s 392ms/step - loss: 0.0050 - val_loss: 3.5669e-04\n",
      "Epoch 14/100\n",
      "12/12 [==============================] - 4s 333ms/step - loss: 0.0045 - val_loss: 2.8759e-04\n",
      "Epoch 15/100\n",
      "12/12 [==============================] - 5s 449ms/step - loss: 0.0048 - val_loss: 3.8917e-04\n",
      "Epoch 16/100\n",
      "12/12 [==============================] - 6s 521ms/step - loss: 0.0041 - val_loss: 3.4382e-04\n",
      "Epoch 17/100\n",
      "12/12 [==============================] - 6s 492ms/step - loss: 0.0050 - val_loss: 7.3590e-04\n",
      "Epoch 18/100\n",
      "12/12 [==============================] - 5s 413ms/step - loss: 0.0039 - val_loss: 2.7237e-04\n",
      "Epoch 19/100\n",
      "12/12 [==============================] - 4s 354ms/step - loss: 0.0060 - val_loss: 3.1155e-04\n",
      "Epoch 20/100\n",
      "12/12 [==============================] - 4s 329ms/step - loss: 0.0038 - val_loss: 2.8166e-04\n",
      "Epoch 21/100\n",
      "12/12 [==============================] - 4s 316ms/step - loss: 0.0035 - val_loss: 2.4246e-04\n",
      "Epoch 22/100\n",
      "12/12 [==============================] - 4s 333ms/step - loss: 0.0071 - val_loss: 2.8671e-04\n",
      "Epoch 23/100\n",
      "12/12 [==============================] - 4s 372ms/step - loss: 0.0038 - val_loss: 4.8707e-04\n",
      "Epoch 24/100\n",
      "12/12 [==============================] - 4s 342ms/step - loss: 0.0037 - val_loss: 2.9357e-04\n",
      "Epoch 25/100\n",
      "12/12 [==============================] - 4s 354ms/step - loss: 0.0027 - val_loss: 2.9637e-04\n",
      "Epoch 26/100\n",
      "12/12 [==============================] - 4s 369ms/step - loss: 0.0024 - val_loss: 2.6374e-04\n",
      "Epoch 27/100\n",
      "12/12 [==============================] - 4s 320ms/step - loss: 0.0022 - val_loss: 3.1716e-04\n",
      "Epoch 28/100\n",
      "12/12 [==============================] - 4s 317ms/step - loss: 0.0022 - val_loss: 2.4932e-04\n",
      "Epoch 29/100\n",
      "12/12 [==============================] - 4s 314ms/step - loss: 0.0020 - val_loss: 2.4446e-04\n",
      "Epoch 30/100\n",
      "12/12 [==============================] - 4s 311ms/step - loss: 0.0022 - val_loss: 2.2827e-04\n",
      "Epoch 31/100\n",
      "12/12 [==============================] - 4s 312ms/step - loss: 0.0020 - val_loss: 2.7360e-04\n",
      "Epoch 32/100\n",
      "12/12 [==============================] - 4s 328ms/step - loss: 0.0018 - val_loss: 2.2389e-04\n",
      "Epoch 33/100\n",
      "12/12 [==============================] - 4s 307ms/step - loss: 0.0022 - val_loss: 3.2192e-04\n",
      "Epoch 34/100\n",
      "12/12 [==============================] - 4s 303ms/step - loss: 0.0023 - val_loss: 3.0017e-04\n",
      "Epoch 35/100\n",
      "12/12 [==============================] - 4s 351ms/step - loss: 0.0026 - val_loss: 4.5300e-04\n",
      "Epoch 36/100\n",
      "12/12 [==============================] - 4s 346ms/step - loss: 0.0029 - val_loss: 3.5939e-04\n",
      "Epoch 37/100\n",
      "12/12 [==============================] - 4s 321ms/step - loss: 0.0034 - val_loss: 2.7619e-04\n",
      "Epoch 38/100\n",
      "12/12 [==============================] - 5s 408ms/step - loss: 0.0019 - val_loss: 2.4089e-04\n",
      "Epoch 39/100\n",
      "12/12 [==============================] - 5s 399ms/step - loss: 0.0020 - val_loss: 4.0030e-04\n",
      "Epoch 40/100\n",
      "12/12 [==============================] - 5s 420ms/step - loss: 0.0019 - val_loss: 2.5636e-04\n",
      "Epoch 41/100\n",
      "12/12 [==============================] - 5s 382ms/step - loss: 0.0019 - val_loss: 3.9563e-04\n",
      "Epoch 42/100\n",
      "12/12 [==============================] - 4s 351ms/step - loss: 0.0016 - val_loss: 2.3962e-04\n",
      "Epoch 43/100\n",
      "12/12 [==============================] - 4s 347ms/step - loss: 0.0018 - val_loss: 2.3798e-04\n",
      "Epoch 44/100\n",
      "12/12 [==============================] - 4s 318ms/step - loss: 0.0020 - val_loss: 2.2282e-04\n",
      "Epoch 45/100\n",
      "12/12 [==============================] - 4s 318ms/step - loss: 0.0016 - val_loss: 2.4529e-04\n",
      "Epoch 46/100\n",
      "12/12 [==============================] - 4s 312ms/step - loss: 0.0015 - val_loss: 2.2710e-04\n",
      "Epoch 47/100\n",
      "12/12 [==============================] - 4s 330ms/step - loss: 0.0014 - val_loss: 2.4271e-04\n",
      "Epoch 48/100\n",
      "12/12 [==============================] - 4s 339ms/step - loss: 0.0016 - val_loss: 2.3264e-04\n",
      "Epoch 49/100\n",
      "12/12 [==============================] - 4s 320ms/step - loss: 0.0017 - val_loss: 2.4562e-04\n",
      "Epoch 50/100\n",
      "12/12 [==============================] - 4s 316ms/step - loss: 0.0016 - val_loss: 2.9127e-04\n",
      "Epoch 51/100\n",
      "12/12 [==============================] - 4s 303ms/step - loss: 0.0016 - val_loss: 2.4902e-04\n",
      "Epoch 52/100\n",
      "12/12 [==============================] - 4s 366ms/step - loss: 0.0015 - val_loss: 2.6200e-04\n",
      "Epoch 53/100\n",
      "12/12 [==============================] - 4s 342ms/step - loss: 0.0024 - val_loss: 2.7249e-04\n",
      "Epoch 54/100\n",
      "12/12 [==============================] - 4s 312ms/step - loss: 0.0020 - val_loss: 2.6643e-04\n",
      "Epoch 55/100\n",
      "12/12 [==============================] - 3s 294ms/step - loss: 0.0016 - val_loss: 2.7074e-04\n",
      "Epoch 56/100\n",
      "12/12 [==============================] - 4s 331ms/step - loss: 0.0017 - val_loss: 2.5742e-04\n",
      "Epoch 57/100\n",
      "12/12 [==============================] - 4s 320ms/step - loss: 0.0022 - val_loss: 3.4723e-04\n",
      "Epoch 58/100\n",
      "12/12 [==============================] - 3s 290ms/step - loss: 0.0029 - val_loss: 4.2546e-04\n",
      "Epoch 59/100\n",
      "12/12 [==============================] - 4s 370ms/step - loss: 0.0035 - val_loss: 3.8724e-04\n",
      "Epoch 60/100\n",
      "12/12 [==============================] - 4s 337ms/step - loss: 0.0034 - val_loss: 6.3141e-04\n",
      "Epoch 61/100\n",
      "12/12 [==============================] - 4s 330ms/step - loss: 0.0018 - val_loss: 2.7360e-04\n",
      "Epoch 62/100\n",
      "12/12 [==============================] - 4s 335ms/step - loss: 0.0019 - val_loss: 2.3364e-04\n",
      "Epoch 63/100\n",
      "12/12 [==============================] - 4s 319ms/step - loss: 0.0015 - val_loss: 2.2902e-04\n",
      "Epoch 64/100\n",
      "12/12 [==============================] - 4s 351ms/step - loss: 0.0015 - val_loss: 2.2998e-04\n",
      "Epoch 65/100\n",
      "12/12 [==============================] - 4s 342ms/step - loss: 0.0023 - val_loss: 4.5183e-04\n",
      "Epoch 66/100\n",
      "12/12 [==============================] - 4s 353ms/step - loss: 0.0022 - val_loss: 2.5004e-04\n",
      "Epoch 67/100\n",
      "12/12 [==============================] - 5s 374ms/step - loss: 0.0015 - val_loss: 2.8194e-04\n",
      "Epoch 68/100\n",
      "12/12 [==============================] - 4s 336ms/step - loss: 0.0017 - val_loss: 2.1913e-04\n",
      "Epoch 69/100\n",
      "12/12 [==============================] - 4s 335ms/step - loss: 0.0045 - val_loss: 0.0019\n",
      "Epoch 70/100\n",
      "12/12 [==============================] - 4s 360ms/step - loss: 0.0041 - val_loss: 2.2623e-04\n",
      "Epoch 71/100\n",
      "12/12 [==============================] - 4s 311ms/step - loss: 0.0033 - val_loss: 3.4609e-04\n",
      "Epoch 72/100\n",
      "12/12 [==============================] - 4s 350ms/step - loss: 0.0031 - val_loss: 2.2860e-04\n",
      "Epoch 73/100\n",
      "12/12 [==============================] - 4s 341ms/step - loss: 0.0023 - val_loss: 2.7010e-04\n",
      "Epoch 74/100\n",
      "12/12 [==============================] - 5s 423ms/step - loss: 0.0025 - val_loss: 2.8575e-04\n",
      "Epoch 75/100\n",
      "12/12 [==============================] - 6s 473ms/step - loss: 0.0028 - val_loss: 2.1985e-04\n",
      "Epoch 76/100\n",
      "12/12 [==============================] - 5s 432ms/step - loss: 0.0019 - val_loss: 2.6231e-04\n",
      "Epoch 77/100\n",
      "12/12 [==============================] - 5s 408ms/step - loss: 0.0019 - val_loss: 3.1609e-04\n",
      "Epoch 78/100\n",
      "12/12 [==============================] - 6s 503ms/step - loss: 0.0022 - val_loss: 3.1178e-04\n",
      "Epoch 79/100\n",
      "12/12 [==============================] - 5s 408ms/step - loss: 0.0015 - val_loss: 2.3230e-04\n",
      "Epoch 80/100\n",
      "12/12 [==============================] - 5s 422ms/step - loss: 0.0015 - val_loss: 2.9884e-04\n",
      "Epoch 81/100\n",
      "12/12 [==============================] - 5s 432ms/step - loss: 0.0014 - val_loss: 2.1433e-04\n",
      "Epoch 82/100\n",
      "12/12 [==============================] - 5s 404ms/step - loss: 0.0015 - val_loss: 2.0642e-04\n",
      "Epoch 83/100\n",
      "12/12 [==============================] - 4s 374ms/step - loss: 0.0017 - val_loss: 5.1706e-04\n",
      "Epoch 84/100\n",
      "12/12 [==============================] - 5s 414ms/step - loss: 0.0015 - val_loss: 3.1638e-04\n",
      "Epoch 85/100\n",
      "12/12 [==============================] - 5s 390ms/step - loss: 0.0013 - val_loss: 2.0182e-04\n",
      "Epoch 86/100\n",
      "12/12 [==============================] - 4s 342ms/step - loss: 0.0012 - val_loss: 2.1138e-04\n",
      "Epoch 87/100\n",
      "12/12 [==============================] - 4s 332ms/step - loss: 0.0013 - val_loss: 2.1409e-04\n",
      "Epoch 88/100\n",
      "12/12 [==============================] - 4s 311ms/step - loss: 0.0012 - val_loss: 2.1847e-04\n",
      "Epoch 89/100\n",
      "12/12 [==============================] - 4s 341ms/step - loss: 0.0011 - val_loss: 2.5753e-04\n",
      "Epoch 90/100\n",
      "12/12 [==============================] - 4s 350ms/step - loss: 0.0012 - val_loss: 2.0260e-04\n",
      "Epoch 91/100\n",
      "12/12 [==============================] - 4s 340ms/step - loss: 0.0017 - val_loss: 5.3424e-04\n",
      "Epoch 92/100\n",
      "12/12 [==============================] - 4s 352ms/step - loss: 0.0016 - val_loss: 2.1034e-04\n",
      "Epoch 93/100\n",
      "12/12 [==============================] - 4s 351ms/step - loss: 0.0014 - val_loss: 1.9237e-04\n",
      "Epoch 94/100\n",
      "12/12 [==============================] - 4s 345ms/step - loss: 0.0013 - val_loss: 2.1661e-04\n",
      "Epoch 95/100\n",
      "12/12 [==============================] - 4s 357ms/step - loss: 0.0016 - val_loss: 1.9644e-04\n",
      "Epoch 96/100\n",
      "12/12 [==============================] - 4s 359ms/step - loss: 0.0021 - val_loss: 2.1010e-04\n",
      "Epoch 97/100\n",
      "12/12 [==============================] - 5s 404ms/step - loss: 0.0019 - val_loss: 2.9311e-04\n",
      "Epoch 98/100\n",
      "12/12 [==============================] - 5s 453ms/step - loss: 0.0016 - val_loss: 1.9771e-04\n",
      "Epoch 99/100\n",
      "12/12 [==============================] - 5s 435ms/step - loss: 0.0012 - val_loss: 3.3897e-04\n",
      "Epoch 100/100\n",
      "12/12 [==============================] - 6s 474ms/step - loss: 0.0040 - val_loss: 0.0019\n"
     ]
    },
    {
     "data": {
      "text/plain": [
       "<keras.callbacks.History at 0x2c761473dc0>"
      ]
     },
     "execution_count": 30,
     "metadata": {},
     "output_type": "execute_result"
    }
   ],
   "source": [
    "model.fit(X_train,y_train,model.fit(X_train,y_train,validation_data=(X_test,ytest),epochs=100,batch_size=64,verbose=1)"
   ]
  },
  {
   "cell_type": "code",
   "execution_count": 31,
   "metadata": {},
   "outputs": [],
   "source": [
    "import tensorflow as tf"
   ]
  },
  {
   "cell_type": "code",
   "execution_count": 33,
   "metadata": {},
   "outputs": [
    {
     "name": "stdout",
     "output_type": "stream",
     "text": [
      "23/23 [==============================] - 4s 77ms/step\n",
      "11/11 [==============================] - 1s 99ms/step\n"
     ]
    }
   ],
   "source": [
    "#prediction and check performance metrics\n",
    "train_predict=model.predict(X_train)\n",
    "test_predict=model.predict(X_test)"
   ]
  },
  {
   "cell_type": "code",
   "execution_count": 34,
   "metadata": {},
   "outputs": [],
   "source": [
    "#transform back to original form\n",
    "train_predict=scaler.inverse_transform(train_predict)\n",
    "test_predict=scaler.inverse_transform(test_predict)"
   ]
  },
  {
   "cell_type": "code",
   "execution_count": 35,
   "metadata": {},
   "outputs": [
    {
     "data": {
      "text/plain": [
       "243.92581091212733"
      ]
     },
     "execution_count": 35,
     "metadata": {},
     "output_type": "execute_result"
    }
   ],
   "source": [
    "#calculate RMSE performance metrics\n",
    "import math\n",
    "from sklearn.metrics import mean_squared_error\n",
    "math.sqrt(mean_squared_error(y_train,train_predict))"
   ]
  },
  {
   "cell_type": "code",
   "execution_count": 36,
   "metadata": {},
   "outputs": [
    {
     "data": {
      "text/plain": [
       "172.3646580586607"
      ]
     },
     "execution_count": 36,
     "metadata": {},
     "output_type": "execute_result"
    }
   ],
   "source": [
    "#test Data RMSE\n",
    "math.sqrt(mean_squared_error(ytest,test_predict))"
   ]
  },
  {
   "cell_type": "code",
   "execution_count": 37,
   "metadata": {},
   "outputs": [
    {
     "data": {
      "image/png": "[encoded data removed]",
      "text/plain": [
       "<Figure size 640x480 with 1 Axes>"
      ]
     },
     "metadata": {},
     "output_type": "display_data"
    }
   ],
   "source": [
    "#Plotting \n",
    "#shift train predictions for plotting\n",
    "look_back=100\n",
    "trainPredictPlot = numpy.empty_like(df1)\n",
    "trainPredictPlot[:, :] = np.nan\n",
    "trainPredictPlot[look_back:len(train_predict)+look_back, :] = train_predict\n",
    "\n",
    "#shift test predictions for plotting\n",
    "testPredictPlot = numpy.empty_like(df1)\n",
    "testPredictPlot[:, :] = numpy.nan\n",
    "testPredictPlot[len(train_predict)+(look_back*2)+1:len(df1)-1, :] = test_predict\n",
    "\n",
    "#plot baseline and predictions\n",
    "plt.plot(scaler.inverse_transform(df1))\n",
    "plt.plot(trainPredictPlot)\n",
    "plt.plot(testPredictPlot)\n",
    "plt.show()"
   ]
  },
  {
   "cell_type": "code",
   "execution_count": 38,
   "metadata": {},
   "outputs": [
    {
     "data": {
      "text/plain": [
       "440"
      ]
     },
     "execution_count": 38,
     "metadata": {},
     "output_type": "execute_result"
    }
   ],
   "source": [
    "len(test_data)"
   ]
  },
  {
   "cell_type": "code",
   "execution_count": 39,
   "metadata": {},
   "outputs": [
    {
     "data": {
      "text/plain": [
       "(1, 99)"
      ]
     },
     "execution_count": 39,
     "metadata": {},
     "output_type": "execute_result"
    }
   ],
   "source": [
    "x_input=test_data[341:].reshape(1,-1)\n",
    "x_input.shape"
   ]
  },
  {
   "cell_type": "code",
   "execution_count": 40,
   "metadata": {},
   "outputs": [],
   "source": [
    "temp_input=list(x_input)\n",
    "temp_input=temp_input[0].tolist()"
   ]
  },
  {
   "cell_type": "code",
   "execution_count": 41,
   "metadata": {},
   "outputs": [
    {
     "data": {
      "text/plain": [
       "[0.06492172824045078,\n",
       " 0.07160926737633061,\n",
       " 0.05815904821540385,\n",
       " 0.061916092673763246,\n",
       " 0.0727113337507827,\n",
       " 0.07140889167188474,\n",
       " 0.07872260488415778,\n",
       " 0.08721352536005006,\n",
       " 0.08721352536005006,\n",
       " 0.07664370695053219,\n",
       " 0.08112711333750777,\n",
       " 0.07484032561051968,\n",
       " 0.08037570444583592,\n",
       " 0.08696305572949276,\n",
       " 0.09036944270507191,\n",
       " 0.09896055103318718,\n",
       " 0.10068879148403248,\n",
       " 0.09525360050093923,\n",
       " 0.0977332498434565,\n",
       " 0.09680651221039449,\n",
       " 0.10427050720100184,\n",
       " 0.10852849092047584,\n",
       " 0.1007639323731997,\n",
       " 0.11060738885410137,\n",
       " 0.11571696931747022,\n",
       " 0.12150281778334371,\n",
       " 0.1183469004383218,\n",
       " 0.11549154664996863,\n",
       " 0.11211020663744514,\n",
       " 0.12510958046336873,\n",
       " 0.12651221039448962,\n",
       " 0.139436443331246,\n",
       " 0.13693174702567307,\n",
       " 0.13317470256731367,\n",
       " 0.1485034439574201,\n",
       " 0.1477019411396368,\n",
       " 0.14654978083907322,\n",
       " 0.1453475266123982,\n",
       " 0.14547276142767684,\n",
       " 0.15629304946775202,\n",
       " 0.1544145272385723,\n",
       " 0.16345648090169063,\n",
       " 0.16618659987476514,\n",
       " 0.16578584846587346,\n",
       " 0.1695929868503444,\n",
       " 0.1685911083281152,\n",
       " 0.16200375704445835,\n",
       " 0.15211020663744512,\n",
       " 0.15125860989355033,\n",
       " 0.15201001878522225,\n",
       " 0.15827175954915462,\n",
       " 0.142216656230432,\n",
       " 0.1366061365059486,\n",
       " 0.13041953663118344,\n",
       " 0.12618659987476516,\n",
       " 0.12804007514088916,\n",
       " 0.1226549780839073,\n",
       " 0.1194489668127739,\n",
       " 0.12303068252974325,\n",
       " 0.1192736380713838,\n",
       " 0.12656230432060112,\n",
       " 0.14174076393237317,\n",
       " 0.1177207263619286,\n",
       " 0.12140262993112083,\n",
       " 0.11403882279273636,\n",
       " 0.10985597996242946,\n",
       " 0.11932373199749524,\n",
       " 0.1253850970569818,\n",
       " 0.1174201628052598,\n",
       " 0.11496556042579836,\n",
       " 0.10917971195992482,\n",
       " 0.11003130870381966,\n",
       " 0.11251095804633682,\n",
       " 0.10770194113963677,\n",
       " 0.08926737633061982,\n",
       " 0.07854727614276763,\n",
       " 0.08919223544145266,\n",
       " 0.09833437695679392,\n",
       " 0.09908578584846583,\n",
       " 0.09665623043206006,\n",
       " 0.08328115216030052,\n",
       " 0.08410770194113959,\n",
       " 0.08050093926111451,\n",
       " 0.07889793362554787,\n",
       " 0.09054477144646211,\n",
       " 0.07899812147777074,\n",
       " 0.08909204758922978,\n",
       " 0.0924483406386975,\n",
       " 0.09272385723231058,\n",
       " 0.09154664996869122,\n",
       " 0.1012648716343143,\n",
       " 0.10672510958046327,\n",
       " 0.11396368190356915,\n",
       " 0.10647463994990602,\n",
       " 0.09507827175954914,\n",
       " 0.1224796493425172,\n",
       " 0.11646837820914213,\n",
       " 0.10973074514715087,\n",
       " 0.0956543519098309]"
      ]
     },
     "execution_count": 41,
     "metadata": {},
     "output_type": "execute_result"
    }
   ],
   "source": [
    "temp_input"
   ]
  },
  {
   "cell_type": "code",
   "execution_count": 44,
   "metadata": {},
   "outputs": [
    {
     "name": "stdout",
     "output_type": "stream",
     "text": [
      "0 day input [0.07160927 0.05815905 0.06191609 0.07271133 0.07140889 0.0787226\n",
      " 0.08721353 0.08721353 0.07664371 0.08112711 0.07484033 0.0803757\n",
      " 0.08696306 0.09036944 0.09896055 0.10068879 0.0952536  0.09773325\n",
      " 0.09680651 0.10427051 0.10852849 0.10076393 0.11060739 0.11571697\n",
      " 0.12150282 0.1183469  0.11549155 0.11211021 0.12510958 0.12651221\n",
      " 0.13943644 0.13693175 0.1331747  0.14850344 0.14770194 0.14654978\n",
      " 0.14534753 0.14547276 0.15629305 0.15441453 0.16345648 0.1661866\n",
      " 0.16578585 0.16959299 0.16859111 0.16200376 0.15211021 0.15125861\n",
      " 0.15201002 0.15827176 0.14221666 0.13660614 0.13041954 0.1261866\n",
      " 0.12804008 0.12265498 0.11944897 0.12303068 0.11927364 0.1265623\n",
      " 0.14174076 0.11772073 0.12140263 0.11403882 0.10985598 0.11932373\n",
      " 0.1253851  0.11742016 0.11496556 0.10917971 0.11003131 0.11251096\n",
      " 0.10770194 0.08926738 0.07854728 0.08919224 0.09833438 0.09908579\n",
      " 0.09665623 0.08328115 0.0841077  0.08050094 0.07889793 0.09054477\n",
      " 0.07899812 0.08909205 0.09244834 0.09272386 0.09154665 0.10126487\n",
      " 0.10672511 0.11396368 0.10647464 0.09507827 0.12247965 0.11646838\n",
      " 0.10973075 0.09565435 0.14943273 0.14943273]\n",
      "0 day output [[0.15649153]]\n",
      "1 day input [0.05815905 0.06191609 0.07271133 0.07140889 0.0787226  0.08721353\n",
      " 0.08721353 0.07664371 0.08112711 0.07484033 0.0803757  0.08696306\n",
      " 0.09036944 0.09896055 0.10068879 0.0952536  0.09773325 0.09680651\n",
      " 0.10427051 0.10852849 0.10076393 0.11060739 0.11571697 0.12150282\n",
      " 0.1183469  0.11549155 0.11211021 0.12510958 0.12651221 0.13943644\n",
      " 0.13693175 0.1331747  0.14850344 0.14770194 0.14654978 0.14534753\n",
      " 0.14547276 0.15629305 0.15441453 0.16345648 0.1661866  0.16578585\n",
      " 0.16959299 0.16859111 0.16200376 0.15211021 0.15125861 0.15201002\n",
      " 0.15827176 0.14221666 0.13660614 0.13041954 0.1261866  0.12804008\n",
      " 0.12265498 0.11944897 0.12303068 0.11927364 0.1265623  0.14174076\n",
      " 0.11772073 0.12140263 0.11403882 0.10985598 0.11932373 0.1253851\n",
      " 0.11742016 0.11496556 0.10917971 0.11003131 0.11251096 0.10770194\n",
      " 0.08926738 0.07854728 0.08919224 0.09833438 0.09908579 0.09665623\n",
      " 0.08328115 0.0841077  0.08050094 0.07889793 0.09054477 0.07899812\n",
      " 0.08909205 0.09244834 0.09272386 0.09154665 0.10126487 0.10672511\n",
      " 0.11396368 0.10647464 0.09507827 0.12247965 0.11646838 0.10973075\n",
      " 0.09565435 0.14943273 0.14943273 0.15649153]\n",
      "1 day output [[0.16222069]]\n",
      "2 day input [0.06191609 0.07271133 0.07140889 0.0787226  0.08721353 0.08721353\n",
      " 0.07664371 0.08112711 0.07484033 0.0803757  0.08696306 0.09036944\n",
      " 0.09896055 0.10068879 0.0952536  0.09773325 0.09680651 0.10427051\n",
      " 0.10852849 0.10076393 0.11060739 0.11571697 0.12150282 0.1183469\n",
      " 0.11549155 0.11211021 0.12510958 0.12651221 0.13943644 0.13693175\n",
      " 0.1331747  0.14850344 0.14770194 0.14654978 0.14534753 0.14547276\n",
      " 0.15629305 0.15441453 0.16345648 0.1661866  0.16578585 0.16959299\n",
      " 0.16859111 0.16200376 0.15211021 0.15125861 0.15201002 0.15827176\n",
      " 0.14221666 0.13660614 0.13041954 0.1261866  0.12804008 0.12265498\n",
      " 0.11944897 0.12303068 0.11927364 0.1265623  0.14174076 0.11772073\n",
      " 0.12140263 0.11403882 0.10985598 0.11932373 0.1253851  0.11742016\n",
      " 0.11496556 0.10917971 0.11003131 0.11251096 0.10770194 0.08926738\n",
      " 0.07854728 0.08919224 0.09833438 0.09908579 0.09665623 0.08328115\n",
      " 0.0841077  0.08050094 0.07889793 0.09054477 0.07899812 0.08909205\n",
      " 0.09244834 0.09272386 0.09154665 0.10126487 0.10672511 0.11396368\n",
      " 0.10647464 0.09507827 0.12247965 0.11646838 0.10973075 0.09565435\n",
      " 0.14943273 0.14943273 0.15649153 0.16222069]\n",
      "2 day output [[0.16898495]]\n",
      "3 day input [0.07271133 0.07140889 0.0787226  0.08721353 0.08721353 0.07664371\n",
      " 0.08112711 0.07484033 0.0803757  0.08696306 0.09036944 0.09896055\n",
      " 0.10068879 0.0952536  0.09773325 0.09680651 0.10427051 0.10852849\n",
      " 0.10076393 0.11060739 0.11571697 0.12150282 0.1183469  0.11549155\n",
      " 0.11211021 0.12510958 0.12651221 0.13943644 0.13693175 0.1331747\n",
      " 0.14850344 0.14770194 0.14654978 0.14534753 0.14547276 0.15629305\n",
      " 0.15441453 0.16345648 0.1661866  0.16578585 0.16959299 0.16859111\n",
      " 0.16200376 0.15211021 0.15125861 0.15201002 0.15827176 0.14221666\n",
      " 0.13660614 0.13041954 0.1261866  0.12804008 0.12265498 0.11944897\n",
      " 0.12303068 0.11927364 0.1265623  0.14174076 0.11772073 0.12140263\n",
      " 0.11403882 0.10985598 0.11932373 0.1253851  0.11742016 0.11496556\n",
      " 0.10917971 0.11003131 0.11251096 0.10770194 0.08926738 0.07854728\n",
      " 0.08919224 0.09833438 0.09908579 0.09665623 0.08328115 0.0841077\n",
      " 0.08050094 0.07889793 0.09054477 0.07899812 0.08909205 0.09244834\n",
      " 0.09272386 0.09154665 0.10126487 0.10672511 0.11396368 0.10647464\n",
      " 0.09507827 0.12247965 0.11646838 0.10973075 0.09565435 0.14943273\n",
      " 0.14943273 0.15649153 0.16222069 0.16898495]\n",
      "3 day output [[0.17646287]]\n",
      "4 day input [0.07140889 0.0787226  0.08721353 0.08721353 0.07664371 0.08112711\n",
      " 0.07484033 0.0803757  0.08696306 0.09036944 0.09896055 0.10068879\n",
      " 0.0952536  0.09773325 0.09680651 0.10427051 0.10852849 0.10076393\n",
      " 0.11060739 0.11571697 0.12150282 0.1183469  0.11549155 0.11211021\n",
      " 0.12510958 0.12651221 0.13943644 0.13693175 0.1331747  0.14850344\n",
      " 0.14770194 0.14654978 0.14534753 0.14547276 0.15629305 0.15441453\n",
      " 0.16345648 0.1661866  0.16578585 0.16959299 0.16859111 0.16200376\n",
      " 0.15211021 0.15125861 0.15201002 0.15827176 0.14221666 0.13660614\n",
      " 0.13041954 0.1261866  0.12804008 0.12265498 0.11944897 0.12303068\n",
      " 0.11927364 0.1265623  0.14174076 0.11772073 0.12140263 0.11403882\n",
      " 0.10985598 0.11932373 0.1253851  0.11742016 0.11496556 0.10917971\n",
      " 0.11003131 0.11251096 0.10770194 0.08926738 0.07854728 0.08919224\n",
      " 0.09833438 0.09908579 0.09665623 0.08328115 0.0841077  0.08050094\n",
      " 0.07889793 0.09054477 0.07899812 0.08909205 0.09244834 0.09272386\n",
      " 0.09154665 0.10126487 0.10672511 0.11396368 0.10647464 0.09507827\n",
      " 0.12247965 0.11646838 0.10973075 0.09565435 0.14943273 0.14943273\n",
      " 0.15649153 0.16222069 0.16898495 0.17646287]\n",
      "4 day output [[0.1844389]]\n",
      "5 day input [0.0787226  0.08721353 0.08721353 0.07664371 0.08112711 0.07484033\n",
      " 0.0803757  0.08696306 0.09036944 0.09896055 0.10068879 0.0952536\n",
      " 0.09773325 0.09680651 0.10427051 0.10852849 0.10076393 0.11060739\n",
      " 0.11571697 0.12150282 0.1183469  0.11549155 0.11211021 0.12510958\n",
      " 0.12651221 0.13943644 0.13693175 0.1331747  0.14850344 0.14770194\n",
      " 0.14654978 0.14534753 0.14547276 0.15629305 0.15441453 0.16345648\n",
      " 0.1661866  0.16578585 0.16959299 0.16859111 0.16200376 0.15211021\n",
      " 0.15125861 0.15201002 0.15827176 0.14221666 0.13660614 0.13041954\n",
      " 0.1261866  0.12804008 0.12265498 0.11944897 0.12303068 0.11927364\n",
      " 0.1265623  0.14174076 0.11772073 0.12140263 0.11403882 0.10985598\n",
      " 0.11932373 0.1253851  0.11742016 0.11496556 0.10917971 0.11003131\n",
      " 0.11251096 0.10770194 0.08926738 0.07854728 0.08919224 0.09833438\n",
      " 0.09908579 0.09665623 0.08328115 0.0841077  0.08050094 0.07889793\n",
      " 0.09054477 0.07899812 0.08909205 0.09244834 0.09272386 0.09154665\n",
      " 0.10126487 0.10672511 0.11396368 0.10647464 0.09507827 0.12247965\n",
      " 0.11646838 0.10973075 0.09565435 0.14943273 0.14943273 0.15649153\n",
      " 0.16222069 0.16898495 0.17646287 0.1844389 ]\n",
      "5 day output [[0.19278866]]\n",
      "6 day input [0.08721353 0.08721353 0.07664371 0.08112711 0.07484033 0.0803757\n",
      " 0.08696306 0.09036944 0.09896055 0.10068879 0.0952536  0.09773325\n",
      " 0.09680651 0.10427051 0.10852849 0.10076393 0.11060739 0.11571697\n",
      " 0.12150282 0.1183469  0.11549155 0.11211021 0.12510958 0.12651221\n",
      " 0.13943644 0.13693175 0.1331747  0.14850344 0.14770194 0.14654978\n",
      " 0.14534753 0.14547276 0.15629305 0.15441453 0.16345648 0.1661866\n",
      " 0.16578585 0.16959299 0.16859111 0.16200376 0.15211021 0.15125861\n",
      " 0.15201002 0.15827176 0.14221666 0.13660614 0.13041954 0.1261866\n",
      " 0.12804008 0.12265498 0.11944897 0.12303068 0.11927364 0.1265623\n",
      " 0.14174076 0.11772073 0.12140263 0.11403882 0.10985598 0.11932373\n",
      " 0.1253851  0.11742016 0.11496556 0.10917971 0.11003131 0.11251096\n",
      " 0.10770194 0.08926738 0.07854728 0.08919224 0.09833438 0.09908579\n",
      " 0.09665623 0.08328115 0.0841077  0.08050094 0.07889793 0.09054477\n",
      " 0.07899812 0.08909205 0.09244834 0.09272386 0.09154665 0.10126487\n",
      " 0.10672511 0.11396368 0.10647464 0.09507827 0.12247965 0.11646838\n",
      " 0.10973075 0.09565435 0.14943273 0.14943273 0.15649153 0.16222069\n",
      " 0.16898495 0.17646287 0.1844389  0.19278866]\n",
      "6 day output [[0.20144938]]\n",
      "7 day input [0.08721353 0.07664371 0.08112711 0.07484033 0.0803757  0.08696306\n",
      " 0.09036944 0.09896055 0.10068879 0.0952536  0.09773325 0.09680651\n",
      " 0.10427051 0.10852849 0.10076393 0.11060739 0.11571697 0.12150282\n",
      " 0.1183469  0.11549155 0.11211021 0.12510958 0.12651221 0.13943644\n",
      " 0.13693175 0.1331747  0.14850344 0.14770194 0.14654978 0.14534753\n",
      " 0.14547276 0.15629305 0.15441453 0.16345648 0.1661866  0.16578585\n",
      " 0.16959299 0.16859111 0.16200376 0.15211021 0.15125861 0.15201002\n",
      " 0.15827176 0.14221666 0.13660614 0.13041954 0.1261866  0.12804008\n",
      " 0.12265498 0.11944897 0.12303068 0.11927364 0.1265623  0.14174076\n",
      " 0.11772073 0.12140263 0.11403882 0.10985598 0.11932373 0.1253851\n",
      " 0.11742016 0.11496556 0.10917971 0.11003131 0.11251096 0.10770194\n",
      " 0.08926738 0.07854728 0.08919224 0.09833438 0.09908579 0.09665623\n",
      " 0.08328115 0.0841077  0.08050094 0.07889793 0.09054477 0.07899812\n",
      " 0.08909205 0.09244834 0.09272386 0.09154665 0.10126487 0.10672511\n",
      " 0.11396368 0.10647464 0.09507827 0.12247965 0.11646838 0.10973075\n",
      " 0.09565435 0.14943273 0.14943273 0.15649153 0.16222069 0.16898495\n",
      " 0.17646287 0.1844389  0.19278866 0.20144938]\n",
      "7 day output [[0.2103937]]\n",
      "8 day input [0.07664371 0.08112711 0.07484033 0.0803757  0.08696306 0.09036944\n",
      " 0.09896055 0.10068879 0.0952536  0.09773325 0.09680651 0.10427051\n",
      " 0.10852849 0.10076393 0.11060739 0.11571697 0.12150282 0.1183469\n",
      " 0.11549155 0.11211021 0.12510958 0.12651221 0.13943644 0.13693175\n",
      " 0.1331747  0.14850344 0.14770194 0.14654978 0.14534753 0.14547276\n",
      " 0.15629305 0.15441453 0.16345648 0.1661866  0.16578585 0.16959299\n",
      " 0.16859111 0.16200376 0.15211021 0.15125861 0.15201002 0.15827176\n",
      " 0.14221666 0.13660614 0.13041954 0.1261866  0.12804008 0.12265498\n",
      " 0.11944897 0.12303068 0.11927364 0.1265623  0.14174076 0.11772073\n",
      " 0.12140263 0.11403882 0.10985598 0.11932373 0.1253851  0.11742016\n",
      " 0.11496556 0.10917971 0.11003131 0.11251096 0.10770194 0.08926738\n",
      " 0.07854728 0.08919224 0.09833438 0.09908579 0.09665623 0.08328115\n",
      " 0.0841077  0.08050094 0.07889793 0.09054477 0.07899812 0.08909205\n",
      " 0.09244834 0.09272386 0.09154665 0.10126487 0.10672511 0.11396368\n",
      " 0.10647464 0.09507827 0.12247965 0.11646838 0.10973075 0.09565435\n",
      " 0.14943273 0.14943273 0.15649153 0.16222069 0.16898495 0.17646287\n",
      " 0.1844389  0.19278866 0.20144938 0.2103937 ]\n",
      "8 day output [[0.21961254]]\n",
      "9 day input [0.08112711 0.07484033 0.0803757  0.08696306 0.09036944 0.09896055\n",
      " 0.10068879 0.0952536  0.09773325 0.09680651 0.10427051 0.10852849\n",
      " 0.10076393 0.11060739 0.11571697 0.12150282 0.1183469  0.11549155\n",
      " 0.11211021 0.12510958 0.12651221 0.13943644 0.13693175 0.1331747\n",
      " 0.14850344 0.14770194 0.14654978 0.14534753 0.14547276 0.15629305\n",
      " 0.15441453 0.16345648 0.1661866  0.16578585 0.16959299 0.16859111\n",
      " 0.16200376 0.15211021 0.15125861 0.15201002 0.15827176 0.14221666\n",
      " 0.13660614 0.13041954 0.1261866  0.12804008 0.12265498 0.11944897\n",
      " 0.12303068 0.11927364 0.1265623  0.14174076 0.11772073 0.12140263\n",
      " 0.11403882 0.10985598 0.11932373 0.1253851  0.11742016 0.11496556\n",
      " 0.10917971 0.11003131 0.11251096 0.10770194 0.08926738 0.07854728\n",
      " 0.08919224 0.09833438 0.09908579 0.09665623 0.08328115 0.0841077\n",
      " 0.08050094 0.07889793 0.09054477 0.07899812 0.08909205 0.09244834\n",
      " 0.09272386 0.09154665 0.10126487 0.10672511 0.11396368 0.10647464\n",
      " 0.09507827 0.12247965 0.11646838 0.10973075 0.09565435 0.14943273\n",
      " 0.14943273 0.15649153 0.16222069 0.16898495 0.17646287 0.1844389\n",
      " 0.19278866 0.20144938 0.2103937  0.21961254]\n",
      "9 day output [[0.22910549]]\n",
      "10 day input [0.07484033 0.0803757  0.08696306 0.09036944 0.09896055 0.10068879\n",
      " 0.0952536  0.09773325 0.09680651 0.10427051 0.10852849 0.10076393\n",
      " 0.11060739 0.11571697 0.12150282 0.1183469  0.11549155 0.11211021\n",
      " 0.12510958 0.12651221 0.13943644 0.13693175 0.1331747  0.14850344\n",
      " 0.14770194 0.14654978 0.14534753 0.14547276 0.15629305 0.15441453\n",
      " 0.16345648 0.1661866  0.16578585 0.16959299 0.16859111 0.16200376\n",
      " 0.15211021 0.15125861 0.15201002 0.15827176 0.14221666 0.13660614\n",
      " 0.13041954 0.1261866  0.12804008 0.12265498 0.11944897 0.12303068\n",
      " 0.11927364 0.1265623  0.14174076 0.11772073 0.12140263 0.11403882\n",
      " 0.10985598 0.11932373 0.1253851  0.11742016 0.11496556 0.10917971\n",
      " 0.11003131 0.11251096 0.10770194 0.08926738 0.07854728 0.08919224\n",
      " 0.09833438 0.09908579 0.09665623 0.08328115 0.0841077  0.08050094\n",
      " 0.07889793 0.09054477 0.07899812 0.08909205 0.09244834 0.09272386\n",
      " 0.09154665 0.10126487 0.10672511 0.11396368 0.10647464 0.09507827\n",
      " 0.12247965 0.11646838 0.10973075 0.09565435 0.14943273 0.14943273\n",
      " 0.15649153 0.16222069 0.16898495 0.17646287 0.1844389  0.19278866\n",
      " 0.20144938 0.2103937  0.21961254 0.22910549]\n",
      "10 day output [[0.23887633]]\n",
      "11 day input [0.0803757  0.08696306 0.09036944 0.09896055 0.10068879 0.0952536\n",
      " 0.09773325 0.09680651 0.10427051 0.10852849 0.10076393 0.11060739\n",
      " 0.11571697 0.12150282 0.1183469  0.11549155 0.11211021 0.12510958\n",
      " 0.12651221 0.13943644 0.13693175 0.1331747  0.14850344 0.14770194\n",
      " 0.14654978 0.14534753 0.14547276 0.15629305 0.15441453 0.16345648\n",
      " 0.1661866  0.16578585 0.16959299 0.16859111 0.16200376 0.15211021\n",
      " 0.15125861 0.15201002 0.15827176 0.14221666 0.13660614 0.13041954\n",
      " 0.1261866  0.12804008 0.12265498 0.11944897 0.12303068 0.11927364\n",
      " 0.1265623  0.14174076 0.11772073 0.12140263 0.11403882 0.10985598\n",
      " 0.11932373 0.1253851  0.11742016 0.11496556 0.10917971 0.11003131\n",
      " 0.11251096 0.10770194 0.08926738 0.07854728 0.08919224 0.09833438\n",
      " 0.09908579 0.09665623 0.08328115 0.0841077  0.08050094 0.07889793\n",
      " 0.09054477 0.07899812 0.08909205 0.09244834 0.09272386 0.09154665\n",
      " 0.10126487 0.10672511 0.11396368 0.10647464 0.09507827 0.12247965\n",
      " 0.11646838 0.10973075 0.09565435 0.14943273 0.14943273 0.15649153\n",
      " 0.16222069 0.16898495 0.17646287 0.1844389  0.19278866 0.20144938\n",
      " 0.2103937  0.21961254 0.22910549 0.23887633]\n",
      "11 day output [[0.2489312]]\n",
      "12 day input [0.08696306 0.09036944 0.09896055 0.10068879 0.0952536  0.09773325\n",
      " 0.09680651 0.10427051 0.10852849 0.10076393 0.11060739 0.11571697\n",
      " 0.12150282 0.1183469  0.11549155 0.11211021 0.12510958 0.12651221\n",
      " 0.13943644 0.13693175 0.1331747  0.14850344 0.14770194 0.14654978\n",
      " 0.14534753 0.14547276 0.15629305 0.15441453 0.16345648 0.1661866\n",
      " 0.16578585 0.16959299 0.16859111 0.16200376 0.15211021 0.15125861\n",
      " 0.15201002 0.15827176 0.14221666 0.13660614 0.13041954 0.1261866\n",
      " 0.12804008 0.12265498 0.11944897 0.12303068 0.11927364 0.1265623\n",
      " 0.14174076 0.11772073 0.12140263 0.11403882 0.10985598 0.11932373\n",
      " 0.1253851  0.11742016 0.11496556 0.10917971 0.11003131 0.11251096\n",
      " 0.10770194 0.08926738 0.07854728 0.08919224 0.09833438 0.09908579\n",
      " 0.09665623 0.08328115 0.0841077  0.08050094 0.07889793 0.09054477\n",
      " 0.07899812 0.08909205 0.09244834 0.09272386 0.09154665 0.10126487\n",
      " 0.10672511 0.11396368 0.10647464 0.09507827 0.12247965 0.11646838\n",
      " 0.10973075 0.09565435 0.14943273 0.14943273 0.15649153 0.16222069\n",
      " 0.16898495 0.17646287 0.1844389  0.19278866 0.20144938 0.2103937\n",
      " 0.21961254 0.22910549 0.23887633 0.2489312 ]\n",
      "12 day output [[0.25927857]]\n",
      "13 day input [0.09036944 0.09896055 0.10068879 0.0952536  0.09773325 0.09680651\n",
      " 0.10427051 0.10852849 0.10076393 0.11060739 0.11571697 0.12150282\n",
      " 0.1183469  0.11549155 0.11211021 0.12510958 0.12651221 0.13943644\n",
      " 0.13693175 0.1331747  0.14850344 0.14770194 0.14654978 0.14534753\n",
      " 0.14547276 0.15629305 0.15441453 0.16345648 0.1661866  0.16578585\n",
      " 0.16959299 0.16859111 0.16200376 0.15211021 0.15125861 0.15201002\n",
      " 0.15827176 0.14221666 0.13660614 0.13041954 0.1261866  0.12804008\n",
      " 0.12265498 0.11944897 0.12303068 0.11927364 0.1265623  0.14174076\n",
      " 0.11772073 0.12140263 0.11403882 0.10985598 0.11932373 0.1253851\n",
      " 0.11742016 0.11496556 0.10917971 0.11003131 0.11251096 0.10770194\n",
      " 0.08926738 0.07854728 0.08919224 0.09833438 0.09908579 0.09665623\n",
      " 0.08328115 0.0841077  0.08050094 0.07889793 0.09054477 0.07899812\n",
      " 0.08909205 0.09244834 0.09272386 0.09154665 0.10126487 0.10672511\n",
      " 0.11396368 0.10647464 0.09507827 0.12247965 0.11646838 0.10973075\n",
      " 0.09565435 0.14943273 0.14943273 0.15649153 0.16222069 0.16898495\n",
      " 0.17646287 0.1844389  0.19278866 0.20144938 0.2103937  0.21961254\n",
      " 0.22910549 0.23887633 0.2489312  0.25927857]\n",
      "13 day output [[0.26992902]]\n",
      "14 day input [0.09896055 0.10068879 0.0952536  0.09773325 0.09680651 0.10427051\n",
      " 0.10852849 0.10076393 0.11060739 0.11571697 0.12150282 0.1183469\n",
      " 0.11549155 0.11211021 0.12510958 0.12651221 0.13943644 0.13693175\n",
      " 0.1331747  0.14850344 0.14770194 0.14654978 0.14534753 0.14547276\n",
      " 0.15629305 0.15441453 0.16345648 0.1661866  0.16578585 0.16959299\n",
      " 0.16859111 0.16200376 0.15211021 0.15125861 0.15201002 0.15827176\n",
      " 0.14221666 0.13660614 0.13041954 0.1261866  0.12804008 0.12265498\n",
      " 0.11944897 0.12303068 0.11927364 0.1265623  0.14174076 0.11772073\n",
      " 0.12140263 0.11403882 0.10985598 0.11932373 0.1253851  0.11742016\n",
      " 0.11496556 0.10917971 0.11003131 0.11251096 0.10770194 0.08926738\n",
      " 0.07854728 0.08919224 0.09833438 0.09908579 0.09665623 0.08328115\n",
      " 0.0841077  0.08050094 0.07889793 0.09054477 0.07899812 0.08909205\n",
      " 0.09244834 0.09272386 0.09154665 0.10126487 0.10672511 0.11396368\n",
      " 0.10647464 0.09507827 0.12247965 0.11646838 0.10973075 0.09565435\n",
      " 0.14943273 0.14943273 0.15649153 0.16222069 0.16898495 0.17646287\n",
      " 0.1844389  0.19278866 0.20144938 0.2103937  0.21961254 0.22910549\n",
      " 0.23887633 0.2489312  0.25927857 0.26992902]\n",
      "14 day output [[0.28089613]]\n",
      "15 day input [0.10068879 0.0952536  0.09773325 0.09680651 0.10427051 0.10852849\n",
      " 0.10076393 0.11060739 0.11571697 0.12150282 0.1183469  0.11549155\n",
      " 0.11211021 0.12510958 0.12651221 0.13943644 0.13693175 0.1331747\n",
      " 0.14850344 0.14770194 0.14654978 0.14534753 0.14547276 0.15629305\n",
      " 0.15441453 0.16345648 0.1661866  0.16578585 0.16959299 0.16859111\n",
      " 0.16200376 0.15211021 0.15125861 0.15201002 0.15827176 0.14221666\n",
      " 0.13660614 0.13041954 0.1261866  0.12804008 0.12265498 0.11944897\n",
      " 0.12303068 0.11927364 0.1265623  0.14174076 0.11772073 0.12140263\n",
      " 0.11403882 0.10985598 0.11932373 0.1253851  0.11742016 0.11496556\n",
      " 0.10917971 0.11003131 0.11251096 0.10770194 0.08926738 0.07854728\n",
      " 0.08919224 0.09833438 0.09908579 0.09665623 0.08328115 0.0841077\n",
      " 0.08050094 0.07889793 0.09054477 0.07899812 0.08909205 0.09244834\n",
      " 0.09272386 0.09154665 0.10126487 0.10672511 0.11396368 0.10647464\n",
      " 0.09507827 0.12247965 0.11646838 0.10973075 0.09565435 0.14943273\n",
      " 0.14943273 0.15649153 0.16222069 0.16898495 0.17646287 0.1844389\n",
      " 0.19278866 0.20144938 0.2103937  0.21961254 0.22910549 0.23887633\n",
      " 0.2489312  0.25927857 0.26992902 0.28089613]\n",
      "15 day output [[0.2921967]]\n",
      "16 day input [0.0952536  0.09773325 0.09680651 0.10427051 0.10852849 0.10076393\n",
      " 0.11060739 0.11571697 0.12150282 0.1183469  0.11549155 0.11211021\n",
      " 0.12510958 0.12651221 0.13943644 0.13693175 0.1331747  0.14850344\n",
      " 0.14770194 0.14654978 0.14534753 0.14547276 0.15629305 0.15441453\n",
      " 0.16345648 0.1661866  0.16578585 0.16959299 0.16859111 0.16200376\n",
      " 0.15211021 0.15125861 0.15201002 0.15827176 0.14221666 0.13660614\n",
      " 0.13041954 0.1261866  0.12804008 0.12265498 0.11944897 0.12303068\n",
      " 0.11927364 0.1265623  0.14174076 0.11772073 0.12140263 0.11403882\n",
      " 0.10985598 0.11932373 0.1253851  0.11742016 0.11496556 0.10917971\n",
      " 0.11003131 0.11251096 0.10770194 0.08926738 0.07854728 0.08919224\n",
      " 0.09833438 0.09908579 0.09665623 0.08328115 0.0841077  0.08050094\n",
      " 0.07889793 0.09054477 0.07899812 0.08909205 0.09244834 0.09272386\n",
      " 0.09154665 0.10126487 0.10672511 0.11396368 0.10647464 0.09507827\n",
      " 0.12247965 0.11646838 0.10973075 0.09565435 0.14943273 0.14943273\n",
      " 0.15649153 0.16222069 0.16898495 0.17646287 0.1844389  0.19278866\n",
      " 0.20144938 0.2103937  0.21961254 0.22910549 0.23887633 0.2489312\n",
      " 0.25927857 0.26992902 0.28089613 0.29219669]\n",
      "16 day output [[0.303851]]\n",
      "17 day input [0.09773325 0.09680651 0.10427051 0.10852849 0.10076393 0.11060739\n",
      " 0.11571697 0.12150282 0.1183469  0.11549155 0.11211021 0.12510958\n",
      " 0.12651221 0.13943644 0.13693175 0.1331747  0.14850344 0.14770194\n",
      " 0.14654978 0.14534753 0.14547276 0.15629305 0.15441453 0.16345648\n",
      " 0.1661866  0.16578585 0.16959299 0.16859111 0.16200376 0.15211021\n",
      " 0.15125861 0.15201002 0.15827176 0.14221666 0.13660614 0.13041954\n",
      " 0.1261866  0.12804008 0.12265498 0.11944897 0.12303068 0.11927364\n",
      " 0.1265623  0.14174076 0.11772073 0.12140263 0.11403882 0.10985598\n",
      " 0.11932373 0.1253851  0.11742016 0.11496556 0.10917971 0.11003131\n",
      " 0.11251096 0.10770194 0.08926738 0.07854728 0.08919224 0.09833438\n",
      " 0.09908579 0.09665623 0.08328115 0.0841077  0.08050094 0.07889793\n",
      " 0.09054477 0.07899812 0.08909205 0.09244834 0.09272386 0.09154665\n",
      " 0.10126487 0.10672511 0.11396368 0.10647464 0.09507827 0.12247965\n",
      " 0.11646838 0.10973075 0.09565435 0.14943273 0.14943273 0.15649153\n",
      " 0.16222069 0.16898495 0.17646287 0.1844389  0.19278866 0.20144938\n",
      " 0.2103937  0.21961254 0.22910549 0.23887633 0.2489312  0.25927857\n",
      " 0.26992902 0.28089613 0.29219669 0.30385101]\n",
      "17 day output [[0.3158832]]\n",
      "18 day input [0.09680651 0.10427051 0.10852849 0.10076393 0.11060739 0.11571697\n",
      " 0.12150282 0.1183469  0.11549155 0.11211021 0.12510958 0.12651221\n",
      " 0.13943644 0.13693175 0.1331747  0.14850344 0.14770194 0.14654978\n",
      " 0.14534753 0.14547276 0.15629305 0.15441453 0.16345648 0.1661866\n",
      " 0.16578585 0.16959299 0.16859111 0.16200376 0.15211021 0.15125861\n",
      " 0.15201002 0.15827176 0.14221666 0.13660614 0.13041954 0.1261866\n",
      " 0.12804008 0.12265498 0.11944897 0.12303068 0.11927364 0.1265623\n",
      " 0.14174076 0.11772073 0.12140263 0.11403882 0.10985598 0.11932373\n",
      " 0.1253851  0.11742016 0.11496556 0.10917971 0.11003131 0.11251096\n",
      " 0.10770194 0.08926738 0.07854728 0.08919224 0.09833438 0.09908579\n",
      " 0.09665623 0.08328115 0.0841077  0.08050094 0.07889793 0.09054477\n",
      " 0.07899812 0.08909205 0.09244834 0.09272386 0.09154665 0.10126487\n",
      " 0.10672511 0.11396368 0.10647464 0.09507827 0.12247965 0.11646838\n",
      " 0.10973075 0.09565435 0.14943273 0.14943273 0.15649153 0.16222069\n",
      " 0.16898495 0.17646287 0.1844389  0.19278866 0.20144938 0.2103937\n",
      " 0.21961254 0.22910549 0.23887633 0.2489312  0.25927857 0.26992902\n",
      " 0.28089613 0.29219669 0.30385101 0.31588319]\n",
      "18 day output [[0.32832125]]\n",
      "19 day input [0.10427051 0.10852849 0.10076393 0.11060739 0.11571697 0.12150282\n",
      " 0.1183469  0.11549155 0.11211021 0.12510958 0.12651221 0.13943644\n",
      " 0.13693175 0.1331747  0.14850344 0.14770194 0.14654978 0.14534753\n",
      " 0.14547276 0.15629305 0.15441453 0.16345648 0.1661866  0.16578585\n",
      " 0.16959299 0.16859111 0.16200376 0.15211021 0.15125861 0.15201002\n",
      " 0.15827176 0.14221666 0.13660614 0.13041954 0.1261866  0.12804008\n",
      " 0.12265498 0.11944897 0.12303068 0.11927364 0.1265623  0.14174076\n",
      " 0.11772073 0.12140263 0.11403882 0.10985598 0.11932373 0.1253851\n",
      " 0.11742016 0.11496556 0.10917971 0.11003131 0.11251096 0.10770194\n",
      " 0.08926738 0.07854728 0.08919224 0.09833438 0.09908579 0.09665623\n",
      " 0.08328115 0.0841077  0.08050094 0.07889793 0.09054477 0.07899812\n",
      " 0.08909205 0.09244834 0.09272386 0.09154665 0.10126487 0.10672511\n",
      " 0.11396368 0.10647464 0.09507827 0.12247965 0.11646838 0.10973075\n",
      " 0.09565435 0.14943273 0.14943273 0.15649153 0.16222069 0.16898495\n",
      " 0.17646287 0.1844389  0.19278866 0.20144938 0.2103937  0.21961254\n",
      " 0.22910549 0.23887633 0.2489312  0.25927857 0.26992902 0.28089613\n",
      " 0.29219669 0.30385101 0.31588319 0.32832125]\n",
      "19 day output [[0.34119752]]\n",
      "20 day input [0.10852849 0.10076393 0.11060739 0.11571697 0.12150282 0.1183469\n",
      " 0.11549155 0.11211021 0.12510958 0.12651221 0.13943644 0.13693175\n",
      " 0.1331747  0.14850344 0.14770194 0.14654978 0.14534753 0.14547276\n",
      " 0.15629305 0.15441453 0.16345648 0.1661866  0.16578585 0.16959299\n",
      " 0.16859111 0.16200376 0.15211021 0.15125861 0.15201002 0.15827176\n",
      " 0.14221666 0.13660614 0.13041954 0.1261866  0.12804008 0.12265498\n",
      " 0.11944897 0.12303068 0.11927364 0.1265623  0.14174076 0.11772073\n",
      " 0.12140263 0.11403882 0.10985598 0.11932373 0.1253851  0.11742016\n",
      " 0.11496556 0.10917971 0.11003131 0.11251096 0.10770194 0.08926738\n",
      " 0.07854728 0.08919224 0.09833438 0.09908579 0.09665623 0.08328115\n",
      " 0.0841077  0.08050094 0.07889793 0.09054477 0.07899812 0.08909205\n",
      " 0.09244834 0.09272386 0.09154665 0.10126487 0.10672511 0.11396368\n",
      " 0.10647464 0.09507827 0.12247965 0.11646838 0.10973075 0.09565435\n",
      " 0.14943273 0.14943273 0.15649153 0.16222069 0.16898495 0.17646287\n",
      " 0.1844389  0.19278866 0.20144938 0.2103937  0.21961254 0.22910549\n",
      " 0.23887633 0.2489312  0.25927857 0.26992902 0.28089613 0.29219669\n",
      " 0.30385101 0.31588319 0.32832125 0.34119752]\n",
      "20 day output [[0.35454836]]\n",
      "21 day input [0.10076393 0.11060739 0.11571697 0.12150282 0.1183469  0.11549155\n",
      " 0.11211021 0.12510958 0.12651221 0.13943644 0.13693175 0.1331747\n",
      " 0.14850344 0.14770194 0.14654978 0.14534753 0.14547276 0.15629305\n",
      " 0.15441453 0.16345648 0.1661866  0.16578585 0.16959299 0.16859111\n",
      " 0.16200376 0.15211021 0.15125861 0.15201002 0.15827176 0.14221666\n",
      " 0.13660614 0.13041954 0.1261866  0.12804008 0.12265498 0.11944897\n",
      " 0.12303068 0.11927364 0.1265623  0.14174076 0.11772073 0.12140263\n",
      " 0.11403882 0.10985598 0.11932373 0.1253851  0.11742016 0.11496556\n",
      " 0.10917971 0.11003131 0.11251096 0.10770194 0.08926738 0.07854728\n",
      " 0.08919224 0.09833438 0.09908579 0.09665623 0.08328115 0.0841077\n",
      " 0.08050094 0.07889793 0.09054477 0.07899812 0.08909205 0.09244834\n",
      " 0.09272386 0.09154665 0.10126487 0.10672511 0.11396368 0.10647464\n",
      " 0.09507827 0.12247965 0.11646838 0.10973075 0.09565435 0.14943273\n",
      " 0.14943273 0.15649153 0.16222069 0.16898495 0.17646287 0.1844389\n",
      " 0.19278866 0.20144938 0.2103937  0.21961254 0.22910549 0.23887633\n",
      " 0.2489312  0.25927857 0.26992902 0.28089613 0.29219669 0.30385101\n",
      " 0.31588319 0.32832125 0.34119752 0.35454836]\n",
      "21 day output [[0.3684142]]\n",
      "22 day input [0.11060739 0.11571697 0.12150282 0.1183469  0.11549155 0.11211021\n",
      " 0.12510958 0.12651221 0.13943644 0.13693175 0.1331747  0.14850344\n",
      " 0.14770194 0.14654978 0.14534753 0.14547276 0.15629305 0.15441453\n",
      " 0.16345648 0.1661866  0.16578585 0.16959299 0.16859111 0.16200376\n",
      " 0.15211021 0.15125861 0.15201002 0.15827176 0.14221666 0.13660614\n",
      " 0.13041954 0.1261866  0.12804008 0.12265498 0.11944897 0.12303068\n",
      " 0.11927364 0.1265623  0.14174076 0.11772073 0.12140263 0.11403882\n",
      " 0.10985598 0.11932373 0.1253851  0.11742016 0.11496556 0.10917971\n",
      " 0.11003131 0.11251096 0.10770194 0.08926738 0.07854728 0.08919224\n",
      " 0.09833438 0.09908579 0.09665623 0.08328115 0.0841077  0.08050094\n",
      " 0.07889793 0.09054477 0.07899812 0.08909205 0.09244834 0.09272386\n",
      " 0.09154665 0.10126487 0.10672511 0.11396368 0.10647464 0.09507827\n",
      " 0.12247965 0.11646838 0.10973075 0.09565435 0.14943273 0.14943273\n",
      " 0.15649153 0.16222069 0.16898495 0.17646287 0.1844389  0.19278866\n",
      " 0.20144938 0.2103937  0.21961254 0.22910549 0.23887633 0.2489312\n",
      " 0.25927857 0.26992902 0.28089613 0.29219669 0.30385101 0.31588319\n",
      " 0.32832125 0.34119752 0.35454836 0.36841419]\n",
      "22 day output [[0.38283944]]\n",
      "23 day input [0.11571697 0.12150282 0.1183469  0.11549155 0.11211021 0.12510958\n",
      " 0.12651221 0.13943644 0.13693175 0.1331747  0.14850344 0.14770194\n",
      " 0.14654978 0.14534753 0.14547276 0.15629305 0.15441453 0.16345648\n",
      " 0.1661866  0.16578585 0.16959299 0.16859111 0.16200376 0.15211021\n",
      " 0.15125861 0.15201002 0.15827176 0.14221666 0.13660614 0.13041954\n",
      " 0.1261866  0.12804008 0.12265498 0.11944897 0.12303068 0.11927364\n",
      " 0.1265623  0.14174076 0.11772073 0.12140263 0.11403882 0.10985598\n",
      " 0.11932373 0.1253851  0.11742016 0.11496556 0.10917971 0.11003131\n",
      " 0.11251096 0.10770194 0.08926738 0.07854728 0.08919224 0.09833438\n",
      " 0.09908579 0.09665623 0.08328115 0.0841077  0.08050094 0.07889793\n",
      " 0.09054477 0.07899812 0.08909205 0.09244834 0.09272386 0.09154665\n",
      " 0.10126487 0.10672511 0.11396368 0.10647464 0.09507827 0.12247965\n",
      " 0.11646838 0.10973075 0.09565435 0.14943273 0.14943273 0.15649153\n",
      " 0.16222069 0.16898495 0.17646287 0.1844389  0.19278866 0.20144938\n",
      " 0.2103937  0.21961254 0.22910549 0.23887633 0.2489312  0.25927857\n",
      " 0.26992902 0.28089613 0.29219669 0.30385101 0.31588319 0.32832125\n",
      " 0.34119752 0.35454836 0.36841419 0.38283944]\n",
      "23 day output [[0.39787358]]\n",
      "24 day input [0.12150282 0.1183469  0.11549155 0.11211021 0.12510958 0.12651221\n",
      " 0.13943644 0.13693175 0.1331747  0.14850344 0.14770194 0.14654978\n",
      " 0.14534753 0.14547276 0.15629305 0.15441453 0.16345648 0.1661866\n",
      " 0.16578585 0.16959299 0.16859111 0.16200376 0.15211021 0.15125861\n",
      " 0.15201002 0.15827176 0.14221666 0.13660614 0.13041954 0.1261866\n",
      " 0.12804008 0.12265498 0.11944897 0.12303068 0.11927364 0.1265623\n",
      " 0.14174076 0.11772073 0.12140263 0.11403882 0.10985598 0.11932373\n",
      " 0.1253851  0.11742016 0.11496556 0.10917971 0.11003131 0.11251096\n",
      " 0.10770194 0.08926738 0.07854728 0.08919224 0.09833438 0.09908579\n",
      " 0.09665623 0.08328115 0.0841077  0.08050094 0.07889793 0.09054477\n",
      " 0.07899812 0.08909205 0.09244834 0.09272386 0.09154665 0.10126487\n",
      " 0.10672511 0.11396368 0.10647464 0.09507827 0.12247965 0.11646838\n",
      " 0.10973075 0.09565435 0.14943273 0.14943273 0.15649153 0.16222069\n",
      " 0.16898495 0.17646287 0.1844389  0.19278866 0.20144938 0.2103937\n",
      " 0.21961254 0.22910549 0.23887633 0.2489312  0.25927857 0.26992902\n",
      " 0.28089613 0.29219669 0.30385101 0.31588319 0.32832125 0.34119752\n",
      " 0.35454836 0.36841419 0.38283944 0.39787358]\n",
      "24 day output [[0.41356972]]\n",
      "25 day input [0.1183469  0.11549155 0.11211021 0.12510958 0.12651221 0.13943644\n",
      " 0.13693175 0.1331747  0.14850344 0.14770194 0.14654978 0.14534753\n",
      " 0.14547276 0.15629305 0.15441453 0.16345648 0.1661866  0.16578585\n",
      " 0.16959299 0.16859111 0.16200376 0.15211021 0.15125861 0.15201002\n",
      " 0.15827176 0.14221666 0.13660614 0.13041954 0.1261866  0.12804008\n",
      " 0.12265498 0.11944897 0.12303068 0.11927364 0.1265623  0.14174076\n",
      " 0.11772073 0.12140263 0.11403882 0.10985598 0.11932373 0.1253851\n",
      " 0.11742016 0.11496556 0.10917971 0.11003131 0.11251096 0.10770194\n",
      " 0.08926738 0.07854728 0.08919224 0.09833438 0.09908579 0.09665623\n",
      " 0.08328115 0.0841077  0.08050094 0.07889793 0.09054477 0.07899812\n",
      " 0.08909205 0.09244834 0.09272386 0.09154665 0.10126487 0.10672511\n",
      " 0.11396368 0.10647464 0.09507827 0.12247965 0.11646838 0.10973075\n",
      " 0.09565435 0.14943273 0.14943273 0.15649153 0.16222069 0.16898495\n",
      " 0.17646287 0.1844389  0.19278866 0.20144938 0.2103937  0.21961254\n",
      " 0.22910549 0.23887633 0.2489312  0.25927857 0.26992902 0.28089613\n",
      " 0.29219669 0.30385101 0.31588319 0.32832125 0.34119752 0.35454836\n",
      " 0.36841419 0.38283944 0.39787358 0.41356972]\n",
      "25 day output [[0.42998487]]\n",
      "26 day input [0.11549155 0.11211021 0.12510958 0.12651221 0.13943644 0.13693175\n",
      " 0.1331747  0.14850344 0.14770194 0.14654978 0.14534753 0.14547276\n",
      " 0.15629305 0.15441453 0.16345648 0.1661866  0.16578585 0.16959299\n",
      " 0.16859111 0.16200376 0.15211021 0.15125861 0.15201002 0.15827176\n",
      " 0.14221666 0.13660614 0.13041954 0.1261866  0.12804008 0.12265498\n",
      " 0.11944897 0.12303068 0.11927364 0.1265623  0.14174076 0.11772073\n",
      " 0.12140263 0.11403882 0.10985598 0.11932373 0.1253851  0.11742016\n",
      " 0.11496556 0.10917971 0.11003131 0.11251096 0.10770194 0.08926738\n",
      " 0.07854728 0.08919224 0.09833438 0.09908579 0.09665623 0.08328115\n",
      " 0.0841077  0.08050094 0.07889793 0.09054477 0.07899812 0.08909205\n",
      " 0.09244834 0.09272386 0.09154665 0.10126487 0.10672511 0.11396368\n",
      " 0.10647464 0.09507827 0.12247965 0.11646838 0.10973075 0.09565435\n",
      " 0.14943273 0.14943273 0.15649153 0.16222069 0.16898495 0.17646287\n",
      " 0.1844389  0.19278866 0.20144938 0.2103937  0.21961254 0.22910549\n",
      " 0.23887633 0.2489312  0.25927857 0.26992902 0.28089613 0.29219669\n",
      " 0.30385101 0.31588319 0.32832125 0.34119752 0.35454836 0.36841419\n",
      " 0.38283944 0.39787358 0.41356972 0.42998487]\n",
      "26 day output [[0.44717988]]\n",
      "27 day input [0.11211021 0.12510958 0.12651221 0.13943644 0.13693175 0.1331747\n",
      " 0.14850344 0.14770194 0.14654978 0.14534753 0.14547276 0.15629305\n",
      " 0.15441453 0.16345648 0.1661866  0.16578585 0.16959299 0.16859111\n",
      " 0.16200376 0.15211021 0.15125861 0.15201002 0.15827176 0.14221666\n",
      " 0.13660614 0.13041954 0.1261866  0.12804008 0.12265498 0.11944897\n",
      " 0.12303068 0.11927364 0.1265623  0.14174076 0.11772073 0.12140263\n",
      " 0.11403882 0.10985598 0.11932373 0.1253851  0.11742016 0.11496556\n",
      " 0.10917971 0.11003131 0.11251096 0.10770194 0.08926738 0.07854728\n",
      " 0.08919224 0.09833438 0.09908579 0.09665623 0.08328115 0.0841077\n",
      " 0.08050094 0.07889793 0.09054477 0.07899812 0.08909205 0.09244834\n",
      " 0.09272386 0.09154665 0.10126487 0.10672511 0.11396368 0.10647464\n",
      " 0.09507827 0.12247965 0.11646838 0.10973075 0.09565435 0.14943273\n",
      " 0.14943273 0.15649153 0.16222069 0.16898495 0.17646287 0.1844389\n",
      " 0.19278866 0.20144938 0.2103937  0.21961254 0.22910549 0.23887633\n",
      " 0.2489312  0.25927857 0.26992902 0.28089613 0.29219669 0.30385101\n",
      " 0.31588319 0.32832125 0.34119752 0.35454836 0.36841419 0.38283944\n",
      " 0.39787358 0.41356972 0.42998487 0.44717988]\n",
      "27 day output [[0.4652187]]\n",
      "28 day input [0.12510958 0.12651221 0.13943644 0.13693175 0.1331747  0.14850344\n",
      " 0.14770194 0.14654978 0.14534753 0.14547276 0.15629305 0.15441453\n",
      " 0.16345648 0.1661866  0.16578585 0.16959299 0.16859111 0.16200376\n",
      " 0.15211021 0.15125861 0.15201002 0.15827176 0.14221666 0.13660614\n",
      " 0.13041954 0.1261866  0.12804008 0.12265498 0.11944897 0.12303068\n",
      " 0.11927364 0.1265623  0.14174076 0.11772073 0.12140263 0.11403882\n",
      " 0.10985598 0.11932373 0.1253851  0.11742016 0.11496556 0.10917971\n",
      " 0.11003131 0.11251096 0.10770194 0.08926738 0.07854728 0.08919224\n",
      " 0.09833438 0.09908579 0.09665623 0.08328115 0.0841077  0.08050094\n",
      " 0.07889793 0.09054477 0.07899812 0.08909205 0.09244834 0.09272386\n",
      " 0.09154665 0.10126487 0.10672511 0.11396368 0.10647464 0.09507827\n",
      " 0.12247965 0.11646838 0.10973075 0.09565435 0.14943273 0.14943273\n",
      " 0.15649153 0.16222069 0.16898495 0.17646287 0.1844389  0.19278866\n",
      " 0.20144938 0.2103937  0.21961254 0.22910549 0.23887633 0.2489312\n",
      " 0.25927857 0.26992902 0.28089613 0.29219669 0.30385101 0.31588319\n",
      " 0.32832125 0.34119752 0.35454836 0.36841419 0.38283944 0.39787358\n",
      " 0.41356972 0.42998487 0.44717988 0.46521869]\n",
      "28 day output [[0.48416734]]\n",
      "29 day input [0.12651221 0.13943644 0.13693175 0.1331747  0.14850344 0.14770194\n",
      " 0.14654978 0.14534753 0.14547276 0.15629305 0.15441453 0.16345648\n",
      " 0.1661866  0.16578585 0.16959299 0.16859111 0.16200376 0.15211021\n",
      " 0.15125861 0.15201002 0.15827176 0.14221666 0.13660614 0.13041954\n",
      " 0.1261866  0.12804008 0.12265498 0.11944897 0.12303068 0.11927364\n",
      " 0.1265623  0.14174076 0.11772073 0.12140263 0.11403882 0.10985598\n",
      " 0.11932373 0.1253851  0.11742016 0.11496556 0.10917971 0.11003131\n",
      " 0.11251096 0.10770194 0.08926738 0.07854728 0.08919224 0.09833438\n",
      " 0.09908579 0.09665623 0.08328115 0.0841077  0.08050094 0.07889793\n",
      " 0.09054477 0.07899812 0.08909205 0.09244834 0.09272386 0.09154665\n",
      " 0.10126487 0.10672511 0.11396368 0.10647464 0.09507827 0.12247965\n",
      " 0.11646838 0.10973075 0.09565435 0.14943273 0.14943273 0.15649153\n",
      " 0.16222069 0.16898495 0.17646287 0.1844389  0.19278866 0.20144938\n",
      " 0.2103937  0.21961254 0.22910549 0.23887633 0.2489312  0.25927857\n",
      " 0.26992902 0.28089613 0.29219669 0.30385101 0.31588319 0.32832125\n",
      " 0.34119752 0.35454836 0.36841419 0.38283944 0.39787358 0.41356972\n",
      " 0.42998487 0.44717988 0.46521869 0.48416734]\n",
      "29 day output [[0.5040926]]\n",
      "[[0.15649153292179108], [0.16222068667411804], [0.16898494958877563], [0.17646287381649017], [0.18443889915943146], [0.19278866052627563], [0.20144937932491302], [0.21039369702339172], [0.21961253881454468], [0.22910548746585846], [0.2388763278722763], [0.24893119931221008], [0.2592785656452179], [0.26992902159690857], [0.2808961272239685], [0.29219669103622437], [0.30385100841522217], [0.31588318943977356], [0.328321248292923], [0.34119752049446106], [0.3545483648777008], [0.3684141933917999], [0.3828394412994385], [0.39787358045578003], [0.41356971859931946], [0.4299848675727844], [0.4471798837184906], [0.4652186930179596], [0.48416733741760254], [0.5040925741195679]]\n"
     ]
    }
   ],
   "source": [
    "#prediction for next 30 days\n",
    "from numpy import array\n",
    "\n",
    "lst_output=[]\n",
    "n_steps=100\n",
    "i=0\n",
    "while(i<30):\n",
    "    \n",
    "    if(len(temp_input)>100):\n",
    "        #print(temp_input)\n",
    "        x_input=np.array(temp_input[1:])\n",
    "        print(\"{} day input {}\".format(i,x_input))\n",
    "        x_input=x_input.reshape(1,-1)\n",
    "        x_input = x_input.reshape((1, n_steps, 1))\n",
    "       \n",
    "        #print(x_input)\n",
    "        yhat = model.predict(x_input, verbose=0)\n",
    "        print(\"{} day output {}\".format(i,yhat))\n",
    "        temp_input.extend(yhat[0].tolist())\n",
    "        temp_input=temp_input[1:]\n",
    "       \n",
    "        #print(temp_input)\n",
    "        lst_output.extend(yhat.tolist())\n",
    "        i=i+1\n",
    "    else:\n",
    "        x_input = x_input.reshape((1, n_steps,1))\n",
    "        yhat = model.predict(x_input, verbose=0)\n",
    "        print(yhat[0])\n",
    "        temp_input.extend(yhat[0].tolist())\n",
    "        print(len(temp_input))\n",
    "        lst_output.extend(yhat.tolist())\n",
    "        i=i+1\n",
    "    \n",
    "\n",
    "print(lst_output)"
   ]
  },
  {
   "cell_type": "code",
   "execution_count": 45,
   "metadata": {},
   "outputs": [],
   "source": [
    "day_new=np.arange(1,101)\n",
    "day_pred=np.arange(101,131)"
   ]
  },
  {
   "cell_type": "code",
   "execution_count": 46,
   "metadata": {},
   "outputs": [],
   "source": [
    "import matplotlib.pyplot as plt"
   ]
  },
  {
   "cell_type": "code",
   "execution_count": 47,
   "metadata": {},
   "outputs": [
    {
     "data": {
      "text/plain": [
       "1257"
      ]
     },
     "execution_count": 47,
     "metadata": {},
     "output_type": "execute_result"
    }
   ],
   "source": [
    "len(df1)"
   ]
  },
  {
   "cell_type": "code",
   "execution_count": 56,
   "metadata": {},
   "outputs": [
    {
     "data": {
      "text/plain": [
       "[<matplotlib.lines.Line2D at 0x2c771136470>]"
      ]
     },
     "execution_count": 56,
     "metadata": {},
     "output_type": "execute_result"
    },
    {
     "data": {
      "image/png": "[encoded data removed]",
      "text/plain": [
       "<Figure size 640x480 with 1 Axes>"
      ]
     },
     "metadata": {},
     "output_type": "display_data"
    }
   ],
   "source": [
    "plt.plot(day_new,scaler.inverse_transform(df1[1157:]))\n",
    "plt.plot(day_pred,scaler.inverse_transform(lst_output))"
   ]
  },
  {
   "cell_type": "code",
   "execution_count": 57,
   "metadata": {},
   "outputs": [],
   "source": [
    "df3=scaler.inverse_transform(df3).tolist()"
   ]
  },
  {
   "cell_type": "code",
   "execution_count": 59,
   "metadata": {},
   "outputs": [
    {
     "data": {
      "text/plain": [
       "[<matplotlib.lines.Line2D at 0x2c770f88d00>]"
      ]
     },
     "execution_count": 59,
     "metadata": {},
     "output_type": "execute_result"
    },
    {
     "data": {
      "image/png": "[encoded data removed]",
      "text/plain": [
       "<Figure size 640x480 with 1 Axes>"
      ]
     },
     "metadata": {},
     "output_type": "display_data"
    }
   ],
   "source": [
    "plt.plot(df3)"
   ]
  }
 ],
 "metadata": {
  "kernelspec": {
   "display_name": "Python 3.10.7 64-bit",
   "language": "python",
   "name": "python3"
  },
  "language_info": {
   "codemirror_mode": {
    "name": "ipython",
    "version": 3
   },
   "file_extension": ".py",
   "mimetype": "text/x-python",
   "name": "python",
   "nbconvert_exporter": "python",
   "pygments_lexer": "ipython3",
   "version": "3.10.7"
  },
  "orig_nbformat": 4,
  "vscode": {
   "interpreter": {
    "hash": "76d7c06053c3456e5600312cec90888656fc0ed30c03d8425b9dac6e4fc8e014"
   }
  }
 },
 "nbformat": 4,
 "nbformat_minor": 2
}
